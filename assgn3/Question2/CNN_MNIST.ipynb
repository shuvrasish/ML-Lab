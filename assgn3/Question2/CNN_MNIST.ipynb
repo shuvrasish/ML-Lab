{
  "nbformat": 4,
  "nbformat_minor": 0,
  "metadata": {
    "colab": {
      "name": "CNN-MNIST.ipynb",
      "provenance": []
    },
    "kernelspec": {
      "name": "python3",
      "display_name": "Python 3"
    },
    "language_info": {
      "name": "python"
    }
  },
  "cells": [
    {
      "cell_type": "markdown",
      "metadata": {
        "id": "9PPtM_tJpR_J"
      },
      "source": [
        "IMPORT STATEMENTS AND DATASET"
      ]
    },
    {
      "cell_type": "code",
      "metadata": {
        "colab": {
          "base_uri": "https://localhost:8080/"
        },
        "id": "Eo5NCjWso8gl",
        "outputId": "70de43bc-8a3e-4ad6-aae5-a0e0e3a85981"
      },
      "source": [
        "import pandas as pd\n",
        "import numpy as np\n",
        "import matplotlib.pyplot as plt\n",
        "import tensorflow as tf\n",
        "\n",
        "# dataset preparation\n",
        "\n",
        "from tensorflow.keras import datasets,layers,models\n",
        "\n",
        "(train_images,train_labels) , (test_images,test_labels) = datasets.mnist.load_data()\n",
        "\n",
        "# Normalize pixel values to be within 0 , 1\n",
        "train_images , test_images = train_images/255.0 , test_images/255.0"
      ],
      "execution_count": null,
      "outputs": [
        {
          "output_type": "stream",
          "name": "stdout",
          "text": [
            "Downloading data from https://storage.googleapis.com/tensorflow/tf-keras-datasets/mnist.npz\n",
            "11493376/11490434 [==============================] - 0s 0us/step\n",
            "11501568/11490434 [==============================] - 0s 0us/step\n"
          ]
        }
      ]
    },
    {
      "cell_type": "code",
      "metadata": {
        "colab": {
          "base_uri": "https://localhost:8080/"
        },
        "id": "TbOJV1x-pIJ3",
        "outputId": "d57665e0-509a-4069-e1a2-3dacf84e771b"
      },
      "source": [
        "train_images = np.reshape(train_images, train_images.shape + (1,))\n",
        "test_images = np.reshape(test_images, test_images.shape + (1,))\n",
        "\n",
        "train_images[0].shape"
      ],
      "execution_count": null,
      "outputs": [
        {
          "output_type": "execute_result",
          "data": {
            "text/plain": [
              "(28, 28, 1)"
            ]
          },
          "metadata": {},
          "execution_count": 2
        }
      ]
    },
    {
      "cell_type": "code",
      "metadata": {
        "colab": {
          "base_uri": "https://localhost:8080/"
        },
        "id": "Uz0s2GXKpLRd",
        "outputId": "fc9b1042-7fae-427c-f7a1-d02d26c94491"
      },
      "source": [
        "model = models.Sequential()\n",
        "model.add(layers.Conv2D(32,(3,3),activation='relu',input_shape=(28,28,1)))\n",
        "model.add(layers.MaxPool2D(2,2))\n",
        "model.add(layers.Conv2D(64,(3,3),activation='relu'))\n",
        "model.add(layers.MaxPool2D(2,2))\n",
        "model.add(layers.Conv2D(64,(3,3),activation='relu'))\n",
        "\n",
        "model.add(layers.Flatten())\n",
        "model.add(layers.Dense(64,activation='relu'))\n",
        "model.add(layers.Dense(10))\n",
        "\n",
        "\n",
        "model.summary()"
      ],
      "execution_count": null,
      "outputs": [
        {
          "output_type": "stream",
          "name": "stdout",
          "text": [
            "Model: \"sequential\"\n",
            "_________________________________________________________________\n",
            "Layer (type)                 Output Shape              Param #   \n",
            "=================================================================\n",
            "conv2d (Conv2D)              (None, 26, 26, 32)        320       \n",
            "_________________________________________________________________\n",
            "max_pooling2d (MaxPooling2D) (None, 13, 13, 32)        0         \n",
            "_________________________________________________________________\n",
            "conv2d_1 (Conv2D)            (None, 11, 11, 64)        18496     \n",
            "_________________________________________________________________\n",
            "max_pooling2d_1 (MaxPooling2 (None, 5, 5, 64)          0         \n",
            "_________________________________________________________________\n",
            "conv2d_2 (Conv2D)            (None, 3, 3, 64)          36928     \n",
            "_________________________________________________________________\n",
            "flatten (Flatten)            (None, 576)               0         \n",
            "_________________________________________________________________\n",
            "dense (Dense)                (None, 64)                36928     \n",
            "_________________________________________________________________\n",
            "dense_1 (Dense)              (None, 10)                650       \n",
            "=================================================================\n",
            "Total params: 93,322\n",
            "Trainable params: 93,322\n",
            "Non-trainable params: 0\n",
            "_________________________________________________________________\n"
          ]
        }
      ]
    },
    {
      "cell_type": "code",
      "metadata": {
        "colab": {
          "base_uri": "https://localhost:8080/"
        },
        "id": "GUUDKLURpM_2",
        "outputId": "94f8876b-f38e-48f0-fd54-941f9835b0d7"
      },
      "source": [
        "model.compile(optimizer='adam',loss=tf.keras.losses.SparseCategoricalCrossentropy(from_logits=True),metrics=['accuracy'])\n",
        "\n",
        "history = model.fit(train_images,train_labels,epochs=20,validation_data=(test_images,test_labels))"
      ],
      "execution_count": null,
      "outputs": [
        {
          "output_type": "stream",
          "name": "stdout",
          "text": [
            "Epoch 1/20\n",
            "1875/1875 [==============================] - 61s 32ms/step - loss: 0.1446 - accuracy: 0.9548 - val_loss: 0.0558 - val_accuracy: 0.9816\n",
            "Epoch 2/20\n",
            "1875/1875 [==============================] - 59s 32ms/step - loss: 0.0474 - accuracy: 0.9853 - val_loss: 0.0568 - val_accuracy: 0.9824\n",
            "Epoch 3/20\n",
            "1875/1875 [==============================] - 59s 32ms/step - loss: 0.0336 - accuracy: 0.9894 - val_loss: 0.0249 - val_accuracy: 0.9910\n",
            "Epoch 4/20\n",
            "1875/1875 [==============================] - 59s 31ms/step - loss: 0.0270 - accuracy: 0.9915 - val_loss: 0.0326 - val_accuracy: 0.9899\n",
            "Epoch 5/20\n",
            "1875/1875 [==============================] - 59s 32ms/step - loss: 0.0207 - accuracy: 0.9934 - val_loss: 0.0429 - val_accuracy: 0.9867\n",
            "Epoch 6/20\n",
            "1875/1875 [==============================] - 59s 32ms/step - loss: 0.0166 - accuracy: 0.9949 - val_loss: 0.0337 - val_accuracy: 0.9907\n",
            "Epoch 7/20\n",
            "1875/1875 [==============================] - 59s 31ms/step - loss: 0.0141 - accuracy: 0.9955 - val_loss: 0.0337 - val_accuracy: 0.9907\n",
            "Epoch 8/20\n",
            "1875/1875 [==============================] - 59s 31ms/step - loss: 0.0117 - accuracy: 0.9963 - val_loss: 0.0369 - val_accuracy: 0.9901\n",
            "Epoch 9/20\n",
            "1875/1875 [==============================] - 60s 32ms/step - loss: 0.0106 - accuracy: 0.9965 - val_loss: 0.0481 - val_accuracy: 0.9892\n",
            "Epoch 10/20\n",
            "1875/1875 [==============================] - 60s 32ms/step - loss: 0.0091 - accuracy: 0.9971 - val_loss: 0.0344 - val_accuracy: 0.9922\n",
            "Epoch 11/20\n",
            "1875/1875 [==============================] - 59s 31ms/step - loss: 0.0077 - accuracy: 0.9974 - val_loss: 0.0354 - val_accuracy: 0.9921\n",
            "Epoch 12/20\n",
            "1875/1875 [==============================] - 59s 31ms/step - loss: 0.0067 - accuracy: 0.9980 - val_loss: 0.0306 - val_accuracy: 0.9929\n",
            "Epoch 13/20\n",
            "1875/1875 [==============================] - 58s 31ms/step - loss: 0.0075 - accuracy: 0.9974 - val_loss: 0.0503 - val_accuracy: 0.9889\n",
            "Epoch 14/20\n",
            "1875/1875 [==============================] - 58s 31ms/step - loss: 0.0065 - accuracy: 0.9978 - val_loss: 0.0420 - val_accuracy: 0.9918\n",
            "Epoch 15/20\n",
            "1875/1875 [==============================] - 58s 31ms/step - loss: 0.0055 - accuracy: 0.9981 - val_loss: 0.0451 - val_accuracy: 0.9908\n",
            "Epoch 16/20\n",
            "1875/1875 [==============================] - 58s 31ms/step - loss: 0.0060 - accuracy: 0.9981 - val_loss: 0.0389 - val_accuracy: 0.9928\n",
            "Epoch 17/20\n",
            "1875/1875 [==============================] - 59s 31ms/step - loss: 0.0062 - accuracy: 0.9980 - val_loss: 0.0411 - val_accuracy: 0.9930\n",
            "Epoch 18/20\n",
            "1875/1875 [==============================] - 59s 31ms/step - loss: 0.0051 - accuracy: 0.9984 - val_loss: 0.0383 - val_accuracy: 0.9923\n",
            "Epoch 19/20\n",
            "1875/1875 [==============================] - 59s 31ms/step - loss: 0.0058 - accuracy: 0.9982 - val_loss: 0.0441 - val_accuracy: 0.9906\n",
            "Epoch 20/20\n",
            "1875/1875 [==============================] - 60s 32ms/step - loss: 0.0033 - accuracy: 0.9989 - val_loss: 0.0504 - val_accuracy: 0.9911\n"
          ]
        }
      ]
    },
    {
      "cell_type": "code",
      "metadata": {
        "colab": {
          "base_uri": "https://localhost:8080/",
          "height": 54
        },
        "id": "9oFVmv3xpOuF",
        "outputId": "4951d891-fe47-4396-c3da-51330bccfd5b"
      },
      "source": [
        "plt.plot(history.history['accuracy'],label='accuracy')\n",
        "plt.plot(history.history['val_accuracy'],label='val_accuracy')\n",
        "plt.xlabel('epoch')\n",
        "plt.ylabel('accuracy')\n",
        "plt.ylim([0.5,1])\n",
        "plt.legend(loc='lower right')\n",
        "\n",
        "plt.show()"
      ],
      "execution_count": null,
      "outputs": [
        {
          "output_type": "display_data",
          "data": {
            "image/png": "[encoded data removed]",
            "text/plain": [
              "<Figure size 432x288 with 1 Axes>"
            ]
          },
          "metadata": {
            "needs_background": "light"
          }
        }
      ]
    },
    {
      "cell_type": "code",
      "metadata": {
        "colab": {
          "base_uri": "https://localhost:8080/"
        },
        "id": "ddNbvk06pQ2n",
        "outputId": "0244d996-cc6a-4cb2-a44d-2d7201e98cbb"
      },
      "source": [
        "test_loss , test_acc = model.evaluate(test_images,test_labels,verbose=2)"
      ],
      "execution_count": null,
      "outputs": [
        {
          "output_type": "stream",
          "name": "stdout",
          "text": [
            "313/313 - 3s - loss: 0.0504 - accuracy: 0.9911\n"
          ]
        }
      ]
    }
  ]
}