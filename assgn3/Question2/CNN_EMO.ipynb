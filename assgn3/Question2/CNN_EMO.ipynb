{
  "nbformat": 4,
  "nbformat_minor": 0,
  "metadata": {
    "colab": {
      "name": "CNN_EMO.ipynb",
      "provenance": [],
      "collapsed_sections": []
    },
    "kernelspec": {
      "name": "python3",
      "display_name": "Python 3"
    },
    "language_info": {
      "name": "python"
    }
  },
  "cells": [
    {
      "cell_type": "code",
      "metadata": {
        "id": "MuT5MnVpzaXu"
      },
      "source": [
        "import librosa\n",
        "import numpy as np\n",
        "\n",
        "input_length = 16000*5\n",
        "\n",
        "batch_size = 32\n",
        "\n",
        "n_mels = 320\n",
        "\n",
        "def preprocess_audio_mel_T(audio, sample_rate=16000, window_size=20, #log_specgram\n",
        "                 step_size=10, eps=1e-10):\n",
        "\n",
        "    mel_spec = librosa.feature.melspectrogram(y=audio, sr=sample_rate, n_mels= n_mels)\n",
        "    mel_db = (librosa.power_to_db(mel_spec, ref=np.max) + 40)/40\n",
        "\n",
        "    return mel_db.T\n",
        "\n",
        "\n",
        "def load_audio_file(file_path, input_length=input_length):\n",
        "  data = librosa.core.load(file_path, sr=16000)[0] #, sr=16000\n",
        "  if len(data)>input_length:\n",
        "    max_offset = len(data)-input_length\n",
        "    \n",
        "    offset = np.random.randint(max_offset)\n",
        "    \n",
        "    data = data[offset:(input_length+offset)]\n",
        "            \n",
        "  else:\n",
        "    if input_length > len(data):\n",
        "      max_offset = input_length - len(data)\n",
        "\n",
        "      offset = np.random.randint(max_offset)\n",
        "    else:\n",
        "      offset = 0\n",
        "    data = np.pad(data, (offset, input_length - len(data) - offset), \"constant\")\n",
        "    \n",
        "  data = preprocess_audio_mel_T(data)\n",
        "  return data"
      ],
      "execution_count": 4,
      "outputs": []
    },
    {
      "cell_type": "code",
      "metadata": {
        "id": "gsZn6vZ7zcM_"
      },
      "source": [
        "# Preprocessing the dataset\n",
        "import os\n",
        "from scipy.io import wavfile\n",
        "import librosa\n",
        "import matplotlib.pyplot as plt\n",
        "import numpy as np\n",
        "\n",
        "directory = \"/content/wav/\"\n",
        "\n",
        "classes = [\"W\" ,\"L\" ,\"E\" ,\"A\" , \"F\" ,\"T\" ,\"N\" ]\n",
        "\n",
        "X = list()\n",
        "y = list()\n",
        "\n",
        "for filename in os.listdir(directory):\n",
        "  filePath = os.path.join(directory, filename)\n",
        "  data = load_audio_file(file_path=filePath)\n",
        "  data = np.reshape(data, data.shape + (1,))\n",
        "  if(filename[5:6] in classes):\n",
        "    X.append(data)\n",
        "    y.append(classes.index(filename[5:6]))"
      ],
      "execution_count": 5,
      "outputs": []
    },
    {
      "cell_type": "code",
      "metadata": {
        "id": "ebEEJEuVzdns"
      },
      "source": [
        "X = np.asarray(X, dtype=np.float32)\n",
        "y = np.asarray(y, dtype=np.float32)"
      ],
      "execution_count": 6,
      "outputs": []
    },
    {
      "cell_type": "code",
      "metadata": {
        "id": "C-3HcwXBzfJF"
      },
      "source": [
        "import pandas as pd\n",
        "import numpy as np\n",
        "import matplotlib.pyplot as plt\n",
        "import tensorflow as tf\n",
        "\n",
        "# dataset preparation\n",
        "\n",
        "from tensorflow.keras import datasets,layers,models\n",
        "from sklearn.model_selection import train_test_split\n",
        "X_train, X_test, y_train, y_test = train_test_split(X, y, test_size=0.3, train_size= 0.7 ,random_state=10)"
      ],
      "execution_count": 7,
      "outputs": []
    },
    {
      "cell_type": "code",
      "metadata": {
        "colab": {
          "base_uri": "https://localhost:8080/"
        },
        "id": "Lrgp79gQzgwI",
        "outputId": "d65113b2-a676-44d0-994f-cb3f1cae1768"
      },
      "source": [
        "model = models.Sequential()\n",
        "model.add(layers.Conv2D(32,(3,3),activation='relu',input_shape=(157,320,1)))\n",
        "model.add(layers.MaxPool2D(2,2))\n",
        "model.add(layers.Conv2D(64,(3,3),activation='relu'))\n",
        "model.add(layers.MaxPool2D(2,2))\n",
        "model.add(layers.Conv2D(64,(3,3),activation='relu'))\n",
        "\n",
        "model.add(layers.Flatten())\n",
        "model.add(layers.Dense(64,activation='relu'))\n",
        "model.add(layers.Dense(10))\n",
        "\n",
        "\n",
        "model.summary()"
      ],
      "execution_count": 8,
      "outputs": [
        {
          "output_type": "stream",
          "name": "stdout",
          "text": [
            "Model: \"sequential\"\n",
            "_________________________________________________________________\n",
            "Layer (type)                 Output Shape              Param #   \n",
            "=================================================================\n",
            "conv2d (Conv2D)              (None, 155, 318, 32)      320       \n",
            "_________________________________________________________________\n",
            "max_pooling2d (MaxPooling2D) (None, 77, 159, 32)       0         \n",
            "_________________________________________________________________\n",
            "conv2d_1 (Conv2D)            (None, 75, 157, 64)       18496     \n",
            "_________________________________________________________________\n",
            "max_pooling2d_1 (MaxPooling2 (None, 37, 78, 64)        0         \n",
            "_________________________________________________________________\n",
            "conv2d_2 (Conv2D)            (None, 35, 76, 64)        36928     \n",
            "_________________________________________________________________\n",
            "flatten (Flatten)            (None, 170240)            0         \n",
            "_________________________________________________________________\n",
            "dense (Dense)                (None, 64)                10895424  \n",
            "_________________________________________________________________\n",
            "dense_1 (Dense)              (None, 10)                650       \n",
            "=================================================================\n",
            "Total params: 10,951,818\n",
            "Trainable params: 10,951,818\n",
            "Non-trainable params: 0\n",
            "_________________________________________________________________\n"
          ]
        }
      ]
    },
    {
      "cell_type": "code",
      "metadata": {
        "colab": {
          "base_uri": "https://localhost:8080/"
        },
        "id": "Rxh5OHVmziWZ",
        "outputId": "6cb50412-45b9-4f1f-ba74-d81a4501a938"
      },
      "source": [
        "model.compile(optimizer='adam',loss=tf.keras.losses.SparseCategoricalCrossentropy(from_logits=True),metrics=['accuracy'])\n",
        "\n",
        "history = model.fit(X_train,y_train,epochs=20,validation_data=(X_test,y_test))"
      ],
      "execution_count": 9,
      "outputs": [
        {
          "output_type": "stream",
          "name": "stdout",
          "text": [
            "Epoch 1/20\n",
            "12/12 [==============================] - 31s 3s/step - loss: 3.3983 - accuracy: 0.2032 - val_loss: 1.7978 - val_accuracy: 0.3540\n",
            "Epoch 2/20\n",
            "12/12 [==============================] - 30s 3s/step - loss: 1.5264 - accuracy: 0.4171 - val_loss: 1.4124 - val_accuracy: 0.3851\n",
            "Epoch 3/20\n",
            "12/12 [==============================] - 29s 2s/step - loss: 1.1416 - accuracy: 0.5615 - val_loss: 1.3522 - val_accuracy: 0.4907\n",
            "Epoch 4/20\n",
            "12/12 [==============================] - 29s 2s/step - loss: 0.8115 - accuracy: 0.6791 - val_loss: 1.3487 - val_accuracy: 0.4534\n",
            "Epoch 5/20\n",
            "12/12 [==============================] - 29s 2s/step - loss: 0.5488 - accuracy: 0.7995 - val_loss: 1.7667 - val_accuracy: 0.4658\n",
            "Epoch 6/20\n",
            "12/12 [==============================] - 29s 2s/step - loss: 0.3237 - accuracy: 0.8850 - val_loss: 1.9519 - val_accuracy: 0.4410\n",
            "Epoch 7/20\n",
            "12/12 [==============================] - 29s 2s/step - loss: 0.1483 - accuracy: 0.9652 - val_loss: 2.2482 - val_accuracy: 0.4969\n",
            "Epoch 8/20\n",
            "12/12 [==============================] - 29s 2s/step - loss: 0.0647 - accuracy: 0.9786 - val_loss: 2.6644 - val_accuracy: 0.4783\n",
            "Epoch 9/20\n",
            "12/12 [==============================] - 29s 2s/step - loss: 0.0223 - accuracy: 0.9973 - val_loss: 2.9553 - val_accuracy: 0.4596\n",
            "Epoch 10/20\n",
            "12/12 [==============================] - 29s 2s/step - loss: 0.0090 - accuracy: 0.9973 - val_loss: 3.3734 - val_accuracy: 0.5031\n",
            "Epoch 11/20\n",
            "12/12 [==============================] - 29s 2s/step - loss: 0.0031 - accuracy: 1.0000 - val_loss: 3.7336 - val_accuracy: 0.4845\n",
            "Epoch 12/20\n",
            "12/12 [==============================] - 29s 2s/step - loss: 0.0016 - accuracy: 1.0000 - val_loss: 3.7510 - val_accuracy: 0.4907\n",
            "Epoch 13/20\n",
            "12/12 [==============================] - 29s 2s/step - loss: 9.8465e-04 - accuracy: 1.0000 - val_loss: 3.7821 - val_accuracy: 0.4969\n",
            "Epoch 14/20\n",
            "12/12 [==============================] - 29s 2s/step - loss: 6.7053e-04 - accuracy: 1.0000 - val_loss: 3.8717 - val_accuracy: 0.4969\n",
            "Epoch 15/20\n",
            "12/12 [==============================] - 29s 2s/step - loss: 5.1129e-04 - accuracy: 1.0000 - val_loss: 3.9343 - val_accuracy: 0.5031\n",
            "Epoch 16/20\n",
            "12/12 [==============================] - 29s 2s/step - loss: 4.0118e-04 - accuracy: 1.0000 - val_loss: 4.0046 - val_accuracy: 0.5031\n",
            "Epoch 17/20\n",
            "12/12 [==============================] - 29s 2s/step - loss: 3.6354e-04 - accuracy: 1.0000 - val_loss: 4.0746 - val_accuracy: 0.4969\n",
            "Epoch 18/20\n",
            "12/12 [==============================] - 29s 2s/step - loss: 2.9631e-04 - accuracy: 1.0000 - val_loss: 4.1104 - val_accuracy: 0.4969\n",
            "Epoch 19/20\n",
            "12/12 [==============================] - 29s 2s/step - loss: 2.5358e-04 - accuracy: 1.0000 - val_loss: 4.1465 - val_accuracy: 0.4907\n",
            "Epoch 20/20\n",
            "12/12 [==============================] - 29s 2s/step - loss: 2.2702e-04 - accuracy: 1.0000 - val_loss: 4.1814 - val_accuracy: 0.4907\n"
          ]
        }
      ]
    },
    {
      "cell_type": "code",
      "metadata": {
        "colab": {
          "base_uri": "https://localhost:8080/",
          "height": 283
        },
        "id": "LMGB_A2CzjqZ",
        "outputId": "6a59c0b7-936e-41ee-a7ab-856b0c3e836b"
      },
      "source": [
        "plt.plot(history.history['accuracy'],label='accuracy')\n",
        "plt.plot(history.history['val_accuracy'],label='val_accuracy')\n",
        "plt.xlabel('epoch')\n",
        "plt.ylabel('accuracy')\n",
        "plt.ylim([0,1])\n",
        "plt.legend(loc='lower right')\n",
        "\n",
        "plt.show()"
      ],
      "execution_count": 10,
      "outputs": [
        {
          "output_type": "display_data",
          "data": {
            "image/png": "[encoded data removed]",
            "text/plain": [
              "<Figure size 432x288 with 1 Axes>"
            ]
          },
          "metadata": {
            "needs_background": "light"
          }
        }
      ]
    },
    {
      "cell_type": "code",
      "metadata": {
        "colab": {
          "base_uri": "https://localhost:8080/"
        },
        "id": "12T2NOilzk8r",
        "outputId": "eda33210-3c03-4782-e9a0-59bdbffb0bd9"
      },
      "source": [
        "test_loss , test_acc = model.evaluate(X_test,y_test,verbose=2)"
      ],
      "execution_count": 11,
      "outputs": [
        {
          "output_type": "stream",
          "name": "stdout",
          "text": [
            "6/6 - 3s - loss: 4.1814 - accuracy: 0.4907\n"
          ]
        }
      ]
    }
  ]
}