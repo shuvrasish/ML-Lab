{
  "nbformat": 4,
  "nbformat_minor": 0,
  "metadata": {
    "colab": {
      "name": "CNN-Cifar10.ipynb",
      "provenance": [],
      "collapsed_sections": []
    },
    "kernelspec": {
      "name": "python3",
      "display_name": "Python 3"
    },
    "language_info": {
      "name": "python"
    }
  },
  "cells": [
    {
      "cell_type": "markdown",
      "metadata": {
        "id": "jWHLFNI-ovNW"
      },
      "source": [
        "IMPORT STATEMENTS AND DATASET"
      ]
    },
    {
      "cell_type": "code",
      "metadata": {
        "id": "yZbBchqmoaA0"
      },
      "source": [
        "import pandas as pd\n",
        "import numpy as np\n",
        "import matplotlib.pyplot as plt\n",
        "import tensorflow as tf\n",
        "\n",
        "# dataset preparation\n",
        "\n",
        "from tensorflow.keras import datasets,layers,models\n",
        "\n",
        "(train_images,train_labels) , (test_images,test_labels) = datasets.cifar10.load_data()\n",
        "\n",
        "# Normalize pixel values to be within 0 , 1\n",
        "train_images , test_images = train_images/255.0 , test_images/255.0"
      ],
      "execution_count": 3,
      "outputs": []
    },
    {
      "cell_type": "code",
      "metadata": {
        "colab": {
          "base_uri": "https://localhost:8080/"
        },
        "id": "d5JLuJ0coi96",
        "outputId": "2670ccce-c025-4047-81db-594d923ab712"
      },
      "source": [
        "input_shape = train_images[0].shape\n",
        "\n",
        "model = models.Sequential()\n",
        "model.add(layers.Conv2D(32,(3,3),activation='relu',input_shape=input_shape))\n",
        "model.add(layers.MaxPool2D(2,2))\n",
        "model.add(layers.Conv2D(64,(3,3),activation='relu'))\n",
        "model.add(layers.MaxPool2D(2,2))\n",
        "model.add(layers.Conv2D(64,(3,3),activation='relu'))\n",
        "\n",
        "model.add(layers.Flatten())\n",
        "model.add(layers.Dense(64,activation='relu'))\n",
        "model.add(layers.Dense(10))\n",
        "\n",
        "\n",
        "model.summary()"
      ],
      "execution_count": 4,
      "outputs": [
        {
          "output_type": "stream",
          "name": "stdout",
          "text": [
            "Model: \"sequential_1\"\n",
            "_________________________________________________________________\n",
            "Layer (type)                 Output Shape              Param #   \n",
            "=================================================================\n",
            "conv2d_3 (Conv2D)            (None, 30, 30, 32)        896       \n",
            "_________________________________________________________________\n",
            "max_pooling2d_2 (MaxPooling2 (None, 15, 15, 32)        0         \n",
            "_________________________________________________________________\n",
            "conv2d_4 (Conv2D)            (None, 13, 13, 64)        18496     \n",
            "_________________________________________________________________\n",
            "max_pooling2d_3 (MaxPooling2 (None, 6, 6, 64)          0         \n",
            "_________________________________________________________________\n",
            "conv2d_5 (Conv2D)            (None, 4, 4, 64)          36928     \n",
            "_________________________________________________________________\n",
            "flatten_1 (Flatten)          (None, 1024)              0         \n",
            "_________________________________________________________________\n",
            "dense_2 (Dense)              (None, 64)                65600     \n",
            "_________________________________________________________________\n",
            "dense_3 (Dense)              (None, 10)                650       \n",
            "=================================================================\n",
            "Total params: 122,570\n",
            "Trainable params: 122,570\n",
            "Non-trainable params: 0\n",
            "_________________________________________________________________\n"
          ]
        }
      ]
    },
    {
      "cell_type": "code",
      "metadata": {
        "colab": {
          "base_uri": "https://localhost:8080/"
        },
        "id": "EL1BFQ7monRR",
        "outputId": "9e499d67-a150-46dd-a125-2edeb3e537eb"
      },
      "source": [
        "model.compile(optimizer='adam',loss=tf.keras.losses.SparseCategoricalCrossentropy(from_logits=True),metrics=['accuracy'])\n",
        "\n",
        "history = model.fit(train_images,train_labels,epochs=20,validation_data=(test_images,test_labels))"
      ],
      "execution_count": 5,
      "outputs": [
        {
          "output_type": "stream",
          "name": "stdout",
          "text": [
            "Epoch 1/20\n",
            "1563/1563 [==============================] - 67s 42ms/step - loss: 1.5309 - accuracy: 0.4417 - val_loss: 1.5367 - val_accuracy: 0.4646\n",
            "Epoch 2/20\n",
            "1563/1563 [==============================] - 65s 42ms/step - loss: 1.1710 - accuracy: 0.5843 - val_loss: 1.1224 - val_accuracy: 0.5990\n",
            "Epoch 3/20\n",
            "1563/1563 [==============================] - 65s 42ms/step - loss: 1.0165 - accuracy: 0.6421 - val_loss: 0.9825 - val_accuracy: 0.6560\n",
            "Epoch 4/20\n",
            "1563/1563 [==============================] - 65s 42ms/step - loss: 0.9195 - accuracy: 0.6773 - val_loss: 0.9559 - val_accuracy: 0.6682\n",
            "Epoch 5/20\n",
            "1563/1563 [==============================] - 65s 41ms/step - loss: 0.8439 - accuracy: 0.7041 - val_loss: 0.9026 - val_accuracy: 0.6897\n",
            "Epoch 6/20\n",
            "1563/1563 [==============================] - 65s 42ms/step - loss: 0.7828 - accuracy: 0.7266 - val_loss: 0.8719 - val_accuracy: 0.7005\n",
            "Epoch 7/20\n",
            "1563/1563 [==============================] - 68s 44ms/step - loss: 0.7337 - accuracy: 0.7441 - val_loss: 0.8932 - val_accuracy: 0.6980\n",
            "Epoch 8/20\n",
            "1563/1563 [==============================] - 68s 43ms/step - loss: 0.6880 - accuracy: 0.7592 - val_loss: 0.8497 - val_accuracy: 0.7094\n",
            "Epoch 9/20\n",
            "1563/1563 [==============================] - 68s 44ms/step - loss: 0.6457 - accuracy: 0.7734 - val_loss: 0.8456 - val_accuracy: 0.7140\n",
            "Epoch 10/20\n",
            "1563/1563 [==============================] - 67s 43ms/step - loss: 0.6068 - accuracy: 0.7861 - val_loss: 0.8751 - val_accuracy: 0.7153\n",
            "Epoch 11/20\n",
            "1563/1563 [==============================] - 68s 44ms/step - loss: 0.5675 - accuracy: 0.7993 - val_loss: 0.8580 - val_accuracy: 0.7147\n",
            "Epoch 12/20\n",
            "1563/1563 [==============================] - 68s 43ms/step - loss: 0.5410 - accuracy: 0.8089 - val_loss: 0.9303 - val_accuracy: 0.7033\n",
            "Epoch 13/20\n",
            "1563/1563 [==============================] - 67s 43ms/step - loss: 0.5117 - accuracy: 0.8200 - val_loss: 0.9169 - val_accuracy: 0.7139\n",
            "Epoch 14/20\n",
            "1563/1563 [==============================] - 67s 43ms/step - loss: 0.4802 - accuracy: 0.8308 - val_loss: 0.9111 - val_accuracy: 0.7189\n",
            "Epoch 15/20\n",
            "1563/1563 [==============================] - 67s 43ms/step - loss: 0.4572 - accuracy: 0.8371 - val_loss: 0.9975 - val_accuracy: 0.7082\n",
            "Epoch 16/20\n",
            "1563/1563 [==============================] - 69s 44ms/step - loss: 0.4299 - accuracy: 0.8461 - val_loss: 0.9821 - val_accuracy: 0.7159\n",
            "Epoch 17/20\n",
            "1563/1563 [==============================] - 67s 43ms/step - loss: 0.4087 - accuracy: 0.8557 - val_loss: 1.0078 - val_accuracy: 0.7159\n",
            "Epoch 18/20\n",
            "1563/1563 [==============================] - 68s 43ms/step - loss: 0.3813 - accuracy: 0.8643 - val_loss: 1.0568 - val_accuracy: 0.7109\n",
            "Epoch 19/20\n",
            "1563/1563 [==============================] - 67s 43ms/step - loss: 0.3690 - accuracy: 0.8682 - val_loss: 1.1018 - val_accuracy: 0.7073\n",
            "Epoch 20/20\n",
            "1563/1563 [==============================] - 67s 43ms/step - loss: 0.3479 - accuracy: 0.8765 - val_loss: 1.1768 - val_accuracy: 0.7017\n"
          ]
        }
      ]
    },
    {
      "cell_type": "code",
      "metadata": {
        "colab": {
          "base_uri": "https://localhost:8080/",
          "height": 283
        },
        "id": "o3bivT1CopdM",
        "outputId": "260237e7-a5ae-4712-e143-07bfc4778213"
      },
      "source": [
        "plt.plot(history.history['accuracy'],label='accuracy')\n",
        "plt.plot(history.history['val_accuracy'],label='val_accuracy')\n",
        "plt.xlabel('epoch')\n",
        "plt.ylabel('accuracy')\n",
        "plt.ylim([0.5,1])\n",
        "plt.legend(loc='lower right')\n",
        "\n",
        "plt.show()"
      ],
      "execution_count": 6,
      "outputs": [
        {
          "output_type": "display_data",
          "data": {
            "image/png": "[encoded data removed]",
            "text/plain": [
              "<Figure size 432x288 with 1 Axes>"
            ]
          },
          "metadata": {
            "needs_background": "light"
          }
        }
      ]
    },
    {
      "cell_type": "code",
      "metadata": {
        "colab": {
          "base_uri": "https://localhost:8080/"
        },
        "id": "_xOO0VcrorJ6",
        "outputId": "7ac859bb-eb17-440f-83fe-7fed20fa9e05"
      },
      "source": [
        "test_loss , test_acc = model.evaluate(test_images,test_labels,verbose=2)"
      ],
      "execution_count": 7,
      "outputs": [
        {
          "output_type": "stream",
          "name": "stdout",
          "text": [
            "313/313 - 3s - loss: 1.1768 - accuracy: 0.7017\n"
          ]
        }
      ]
    }
  ]
}