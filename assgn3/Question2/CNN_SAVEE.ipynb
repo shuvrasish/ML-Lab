{
  "nbformat": 4,
  "nbformat_minor": 0,
  "metadata": {
    "colab": {
      "name": "CNN_SAVEE.ipynb",
      "provenance": [],
      "collapsed_sections": []
    },
    "kernelspec": {
      "name": "python3",
      "display_name": "Python 3"
    },
    "language_info": {
      "name": "python"
    }
  },
  "cells": [
    {
      "cell_type": "code",
      "metadata": {
        "id": "7clwtF6swZeH"
      },
      "source": [
        "from google.colab import drive\n",
        "drive.mount('/content/drive')"
      ],
      "execution_count": null,
      "outputs": []
    },
    {
      "cell_type": "code",
      "metadata": {
        "id": "ogjRiiH1yGjp"
      },
      "source": [
        "!unzip \"/content/drive/MyDrive/AudioData.zip\""
      ],
      "execution_count": null,
      "outputs": []
    },
    {
      "cell_type": "code",
      "metadata": {
        "id": "AdgjuHC7xIkE"
      },
      "source": [
        "import librosa\n",
        "import numpy as np\n",
        "\n",
        "input_length = 16000*5\n",
        "\n",
        "batch_size = 32\n",
        "\n",
        "n_mels = 320\n",
        "\n",
        "def preprocess_audio_mel_T(audio, sample_rate=16000, window_size=20, #log_specgram\n",
        "                 step_size=10, eps=1e-10):\n",
        "\n",
        "    mel_spec = librosa.feature.melspectrogram(y=audio, sr=sample_rate, n_mels= n_mels)\n",
        "    mel_db = (librosa.power_to_db(mel_spec, ref=np.max) + 40)/40\n",
        "\n",
        "    return mel_db.T\n",
        "\n",
        "\n",
        "def load_audio_file(file_path, input_length=input_length):\n",
        "  data = librosa.core.load(file_path, sr=16000)[0] #, sr=16000\n",
        "  if len(data)>input_length:\n",
        "    max_offset = len(data)-input_length\n",
        "    \n",
        "    offset = np.random.randint(max_offset)\n",
        "    \n",
        "    data = data[offset:(input_length+offset)]\n",
        "            \n",
        "  else:\n",
        "    if input_length > len(data):\n",
        "      max_offset = input_length - len(data)\n",
        "\n",
        "      offset = np.random.randint(max_offset)\n",
        "    else:\n",
        "      offset = 0\n",
        "    data = np.pad(data, (offset, input_length - len(data) - offset), \"constant\")\n",
        "    \n",
        "  data = preprocess_audio_mel_T(data)\n",
        "  return data"
      ],
      "execution_count": 2,
      "outputs": []
    },
    {
      "cell_type": "code",
      "metadata": {
        "id": "l7NMWrnXxMfz"
      },
      "source": [
        "import os\n",
        "from scipy.io import wavfile\n",
        "import librosa\n",
        "import matplotlib.pyplot as plt\n",
        "import numpy as np\n",
        "\n",
        "rootDirectory = \"/content/AudioData/\"\n",
        "personNames = [\"DC\",\"JE\",\"JK\",\"KL\"]\n",
        "\n",
        "classes = [\"a\" , \"d\" , \"f\", \"h\", \"n\", \"sa\" , \"su\" ]\n",
        "\n",
        "X = list()\n",
        "y = list()\n",
        "\n",
        "for person in personNames:\n",
        "  directory = os.path.join(rootDirectory,person)\n",
        "  for filename in os.listdir(directory):\n",
        "    filePath = os.path.join(directory, filename)\n",
        "    data = load_audio_file(file_path=filePath)\n",
        "    data = np.reshape(data, data.shape + (1,))\n",
        "    if(filename[0:1] in classes):\n",
        "      X.append(data)\n",
        "      y.append(classes.index(filename[0:1]))\n",
        "    elif(filename[0:2] in classes):\n",
        "      X.append(data)\n",
        "      y.append(classes.index(filename[0:2]))"
      ],
      "execution_count": 8,
      "outputs": []
    },
    {
      "cell_type": "code",
      "metadata": {
        "id": "jf1-F2JlyWe2"
      },
      "source": [
        "X = np.asarray(X, dtype=np.float32)\n",
        "y = np.asarray(y, dtype=np.float32)"
      ],
      "execution_count": 9,
      "outputs": []
    },
    {
      "cell_type": "code",
      "metadata": {
        "id": "i9Q6rlEtyYLg"
      },
      "source": [
        "import pandas as pd\n",
        "import numpy as np\n",
        "import matplotlib.pyplot as plt\n",
        "import tensorflow as tf\n",
        "\n",
        "# dataset preparation\n",
        "\n",
        "from tensorflow.keras import datasets,layers,models\n",
        "from sklearn.model_selection import train_test_split\n",
        "X_train, X_test, y_train, y_test = train_test_split(X, y, test_size=0.3, train_size= 0.7 ,random_state=10)"
      ],
      "execution_count": 10,
      "outputs": []
    },
    {
      "cell_type": "code",
      "metadata": {
        "colab": {
          "base_uri": "https://localhost:8080/"
        },
        "id": "fVdp5wZMyZ0p",
        "outputId": "97cfe532-7221-4237-b7e5-d2834ee30c7e"
      },
      "source": [
        "model = models.Sequential()\n",
        "model.add(layers.Conv2D(32,(3,3),activation='relu',input_shape=(157,320,1)))\n",
        "model.add(layers.MaxPool2D(2,2))\n",
        "model.add(layers.Conv2D(64,(3,3),activation='relu'))\n",
        "model.add(layers.MaxPool2D(2,2))\n",
        "model.add(layers.Conv2D(64,(3,3),activation='relu'))\n",
        "\n",
        "model.add(layers.Flatten())\n",
        "model.add(layers.Dense(64,activation='relu'))\n",
        "model.add(layers.Dense(10))\n",
        "\n",
        "\n",
        "model.summary()"
      ],
      "execution_count": 11,
      "outputs": [
        {
          "output_type": "stream",
          "name": "stdout",
          "text": [
            "Model: \"sequential\"\n",
            "_________________________________________________________________\n",
            "Layer (type)                 Output Shape              Param #   \n",
            "=================================================================\n",
            "conv2d (Conv2D)              (None, 155, 318, 32)      320       \n",
            "_________________________________________________________________\n",
            "max_pooling2d (MaxPooling2D) (None, 77, 159, 32)       0         \n",
            "_________________________________________________________________\n",
            "conv2d_1 (Conv2D)            (None, 75, 157, 64)       18496     \n",
            "_________________________________________________________________\n",
            "max_pooling2d_1 (MaxPooling2 (None, 37, 78, 64)        0         \n",
            "_________________________________________________________________\n",
            "conv2d_2 (Conv2D)            (None, 35, 76, 64)        36928     \n",
            "_________________________________________________________________\n",
            "flatten (Flatten)            (None, 170240)            0         \n",
            "_________________________________________________________________\n",
            "dense (Dense)                (None, 64)                10895424  \n",
            "_________________________________________________________________\n",
            "dense_1 (Dense)              (None, 10)                650       \n",
            "=================================================================\n",
            "Total params: 10,951,818\n",
            "Trainable params: 10,951,818\n",
            "Non-trainable params: 0\n",
            "_________________________________________________________________\n"
          ]
        }
      ]
    },
    {
      "cell_type": "code",
      "metadata": {
        "colab": {
          "base_uri": "https://localhost:8080/"
        },
        "id": "eKjm3aPAybek",
        "outputId": "caf8d843-7f7f-4a39-d739-8254eacd98e4"
      },
      "source": [
        "model.compile(optimizer='adam',loss=tf.keras.losses.SparseCategoricalCrossentropy(from_logits=True),metrics=['accuracy'])\n",
        "\n",
        "history = model.fit(X_train,y_train,epochs=30,validation_data=(X_test,y_test))"
      ],
      "execution_count": 12,
      "outputs": [
        {
          "output_type": "stream",
          "name": "stdout",
          "text": [
            "Epoch 1/30\n",
            "11/11 [==============================] - 28s 2s/step - loss: 3.1605 - accuracy: 0.1845 - val_loss: 2.2921 - val_accuracy: 0.1528\n",
            "Epoch 2/30\n",
            "11/11 [==============================] - 26s 2s/step - loss: 2.0202 - accuracy: 0.2708 - val_loss: 2.1275 - val_accuracy: 0.1528\n",
            "Epoch 3/30\n",
            "11/11 [==============================] - 26s 2s/step - loss: 1.8117 - accuracy: 0.3036 - val_loss: 1.9424 - val_accuracy: 0.2431\n",
            "Epoch 4/30\n",
            "11/11 [==============================] - 26s 2s/step - loss: 1.4582 - accuracy: 0.4673 - val_loss: 1.9249 - val_accuracy: 0.2500\n",
            "Epoch 5/30\n",
            "11/11 [==============================] - 26s 2s/step - loss: 1.1255 - accuracy: 0.5833 - val_loss: 1.8715 - val_accuracy: 0.3194\n",
            "Epoch 6/30\n",
            "11/11 [==============================] - 26s 2s/step - loss: 0.7514 - accuracy: 0.7411 - val_loss: 1.9895 - val_accuracy: 0.3542\n",
            "Epoch 7/30\n",
            "11/11 [==============================] - 26s 2s/step - loss: 0.4764 - accuracy: 0.8333 - val_loss: 2.2782 - val_accuracy: 0.2986\n",
            "Epoch 8/30\n",
            "11/11 [==============================] - 26s 2s/step - loss: 0.2938 - accuracy: 0.9196 - val_loss: 2.7056 - val_accuracy: 0.3750\n",
            "Epoch 9/30\n",
            "11/11 [==============================] - 26s 2s/step - loss: 0.1100 - accuracy: 0.9940 - val_loss: 2.9734 - val_accuracy: 0.3542\n",
            "Epoch 10/30\n",
            "11/11 [==============================] - 26s 2s/step - loss: 0.0435 - accuracy: 0.9911 - val_loss: 3.7372 - val_accuracy: 0.3125\n",
            "Epoch 11/30\n",
            "11/11 [==============================] - 26s 2s/step - loss: 0.0382 - accuracy: 0.9911 - val_loss: 3.8469 - val_accuracy: 0.4028\n",
            "Epoch 12/30\n",
            "11/11 [==============================] - 26s 2s/step - loss: 0.0193 - accuracy: 0.9940 - val_loss: 3.9630 - val_accuracy: 0.3611\n",
            "Epoch 13/30\n",
            "11/11 [==============================] - 26s 2s/step - loss: 0.0088 - accuracy: 0.9970 - val_loss: 4.4897 - val_accuracy: 0.3194\n",
            "Epoch 14/30\n",
            "11/11 [==============================] - 26s 2s/step - loss: 0.0028 - accuracy: 1.0000 - val_loss: 4.5158 - val_accuracy: 0.3403\n",
            "Epoch 15/30\n",
            "11/11 [==============================] - 26s 2s/step - loss: 0.0018 - accuracy: 1.0000 - val_loss: 4.6630 - val_accuracy: 0.3403\n",
            "Epoch 16/30\n",
            "11/11 [==============================] - 26s 2s/step - loss: 8.1752e-04 - accuracy: 1.0000 - val_loss: 4.7943 - val_accuracy: 0.3403\n",
            "Epoch 17/30\n",
            "11/11 [==============================] - 26s 2s/step - loss: 6.2663e-04 - accuracy: 1.0000 - val_loss: 4.9100 - val_accuracy: 0.3472\n",
            "Epoch 18/30\n",
            "11/11 [==============================] - 26s 2s/step - loss: 5.0990e-04 - accuracy: 1.0000 - val_loss: 4.9722 - val_accuracy: 0.3472\n",
            "Epoch 19/30\n",
            "11/11 [==============================] - 26s 2s/step - loss: 4.2045e-04 - accuracy: 1.0000 - val_loss: 5.0247 - val_accuracy: 0.3472\n",
            "Epoch 20/30\n",
            "11/11 [==============================] - 26s 2s/step - loss: 3.6234e-04 - accuracy: 1.0000 - val_loss: 5.0764 - val_accuracy: 0.3403\n",
            "Epoch 21/30\n",
            "11/11 [==============================] - 26s 2s/step - loss: 3.1751e-04 - accuracy: 1.0000 - val_loss: 5.1274 - val_accuracy: 0.3403\n",
            "Epoch 22/30\n",
            "11/11 [==============================] - 26s 2s/step - loss: 2.8307e-04 - accuracy: 1.0000 - val_loss: 5.1800 - val_accuracy: 0.3403\n",
            "Epoch 23/30\n",
            "11/11 [==============================] - 26s 2s/step - loss: 2.5461e-04 - accuracy: 1.0000 - val_loss: 5.2211 - val_accuracy: 0.3333\n",
            "Epoch 24/30\n",
            "11/11 [==============================] - 26s 2s/step - loss: 2.3146e-04 - accuracy: 1.0000 - val_loss: 5.2606 - val_accuracy: 0.3264\n",
            "Epoch 25/30\n",
            "11/11 [==============================] - 26s 2s/step - loss: 2.1190e-04 - accuracy: 1.0000 - val_loss: 5.2975 - val_accuracy: 0.3264\n",
            "Epoch 26/30\n",
            "11/11 [==============================] - 26s 2s/step - loss: 1.9411e-04 - accuracy: 1.0000 - val_loss: 5.3341 - val_accuracy: 0.3264\n",
            "Epoch 27/30\n",
            "11/11 [==============================] - 26s 2s/step - loss: 1.7741e-04 - accuracy: 1.0000 - val_loss: 5.3717 - val_accuracy: 0.3194\n",
            "Epoch 28/30\n",
            "11/11 [==============================] - 26s 2s/step - loss: 1.6377e-04 - accuracy: 1.0000 - val_loss: 5.4069 - val_accuracy: 0.3125\n",
            "Epoch 29/30\n",
            "11/11 [==============================] - 26s 2s/step - loss: 1.5132e-04 - accuracy: 1.0000 - val_loss: 5.4432 - val_accuracy: 0.3125\n",
            "Epoch 30/30\n",
            "11/11 [==============================] - 26s 2s/step - loss: 1.3950e-04 - accuracy: 1.0000 - val_loss: 5.4739 - val_accuracy: 0.3125\n"
          ]
        }
      ]
    },
    {
      "cell_type": "code",
      "metadata": {
        "colab": {
          "base_uri": "https://localhost:8080/",
          "height": 283
        },
        "id": "GlN2lPa8ydYn",
        "outputId": "e3dc1b74-3ba6-4a4a-fcd1-977168b36c3f"
      },
      "source": [
        "plt.plot(history.history['accuracy'],label='accuracy')\n",
        "plt.plot(history.history['val_accuracy'],label='val_accuracy')\n",
        "plt.xlabel('epoch')\n",
        "plt.ylabel('accuracy')\n",
        "plt.ylim([0.5,1])\n",
        "plt.legend(loc='lower right')\n",
        "\n",
        "plt.show()"
      ],
      "execution_count": 13,
      "outputs": [
        {
          "output_type": "display_data",
          "data": {
            "image/png": "[encoded data removed]",
            "text/plain": [
              "<Figure size 432x288 with 1 Axes>"
            ]
          },
          "metadata": {
            "needs_background": "light"
          }
        }
      ]
    },
    {
      "cell_type": "code",
      "metadata": {
        "colab": {
          "base_uri": "https://localhost:8080/"
        },
        "id": "ztOIW9cMyfCd",
        "outputId": "ab44ac03-fb2d-4372-fe43-5e386f52ca69"
      },
      "source": [
        "test_loss , test_acc = model.evaluate(X_test,y_test,verbose=2)"
      ],
      "execution_count": 14,
      "outputs": [
        {
          "output_type": "stream",
          "name": "stdout",
          "text": [
            "5/5 - 3s - loss: 5.4739 - accuracy: 0.3125\n"
          ]
        }
      ]
    }
  ]
}