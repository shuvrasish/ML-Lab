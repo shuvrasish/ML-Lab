{
  "nbformat": 4,
  "nbformat_minor": 0,
  "metadata": {
    "colab": {
      "name": "wine.ipynb",
      "provenance": [],
      "collapsed_sections": []
    },
    "kernelspec": {
      "name": "python3",
      "display_name": "Python 3"
    },
    "language_info": {
      "name": "python"
    }
  },
  "cells": [
    {
      "cell_type": "markdown",
      "metadata": {
        "id": "vIMTuMeSWKd6"
      },
      "source": [
        "**WINE DATASET**"
      ]
    },
    {
      "cell_type": "code",
      "metadata": {
        "id": "LqKZN4aSMznx"
      },
      "source": [
        "#DATASET PREPARATION AND IMPORTS\n",
        "\n",
        "import pandas as pd\n",
        "import numpy as np\n",
        "\n",
        "df = pd.read_csv(\"wine.data\",header=None)\n",
        "\n",
        "col_name = ['Class','Alcohol','Malic acid','Ash','Alcalinity of ash','Magnesium','Total phenols','Flavanoids',\n",
        "            'Nonflavanoid phenols','Proanthocyanins','Color intensity','Hue','OD280/OD315 of diluted wines','Proline']\n",
        "\n",
        "df.columns = col_name\n",
        "X = df.drop(['Class'], axis=1)\n",
        "y = df['Class']"
      ],
      "execution_count": 6,
      "outputs": []
    },
    {
      "cell_type": "markdown",
      "metadata": {
        "id": "uznCX59zNsh8"
      },
      "source": [
        "WITHOUT PARAMETER TUNING **GAUSSIAN HMM**"
      ]
    },
    {
      "cell_type": "markdown",
      "metadata": {
        "id": "9BEIytO0WOId"
      },
      "source": [
        "**70-30 SPLIT WITHOUT PARAMETER TUNING**"
      ]
    },
    {
      "cell_type": "code",
      "metadata": {
        "colab": {
          "base_uri": "https://localhost:8080/",
          "height": 622
        },
        "id": "fiHYrWnYMgj-",
        "outputId": "82d40bff-90c9-4f18-f734-646f5433e63a"
      },
      "source": [
        "from sklearn.model_selection import train_test_split\n",
        "X_train, X_test, y_train, y_test = train_test_split(X,y,train_size=0.7,test_size=0.3,random_state=10)\n",
        "\n",
        "# Feature Scaling \n",
        "from sklearn.preprocessing import StandardScaler\n",
        "\n",
        "sc = StandardScaler()\n",
        "X_train = sc.fit_transform(X_train)\n",
        "X_test = sc.transform(X_test)\n",
        "\n",
        "# Classification\n",
        "from hmmlearn import hmm\n",
        "\n",
        "classifier = hmm.GaussianHMM()\n",
        "classifier.fit(X_train)\n",
        "\n",
        "y_pred = classifier.predict(X_test)\n",
        "\n",
        "size = len(y_pred)\n",
        "strings = np.empty(size, np.unicode_)\n",
        "\n",
        "for i in range (size):\n",
        "    if y_pred[i] == 0:\n",
        "      strings[i] = 1\n",
        "    elif y_pred[i] == 1:\n",
        "      strings[i] = 2\n",
        "    else:\n",
        "      strings[i] = 3\n",
        "\n",
        "strings = strings.astype(np.int)\n",
        "\n",
        "\n",
        "\n",
        "from sklearn.metrics import classification_report, confusion_matrix, accuracy_score\n",
        "\n",
        "print(\"Confusion Matrix:\")\n",
        "print(confusion_matrix(y_test, strings))\n",
        "\n",
        "print(\"--------------------------------------------------\")\n",
        "print(\"--------------------------------------------------\")\n",
        "\n",
        "print(\"Performance Evaluation\")\n",
        "print(classification_report(y_test, strings, zero_division=1))\n",
        "\n",
        "print(\"--------------------------------------------------\")\n",
        "print(\"--------------------------------------------------\")\n",
        "\n",
        "print(\"Accuracy:\")\n",
        "print(accuracy_score(y_test, strings))\n",
        "\n",
        "import matplotlib.pyplot as plt\n",
        "import seaborn as sns\n",
        "cm = confusion_matrix(y_test, strings)\n",
        "sns.heatmap(cm, annot=True, fmt=\"d\",cmap='Blues')\n",
        "plt.show()"
      ],
      "execution_count": 7,
      "outputs": [
        {
          "output_type": "stream",
          "name": "stdout",
          "text": [
            "Confusion Matrix:\n",
            "[[15  0  0]\n",
            " [27  0  0]\n",
            " [12  0  0]]\n",
            "--------------------------------------------------\n",
            "--------------------------------------------------\n",
            "Performance Evaluation\n",
            "              precision    recall  f1-score   support\n",
            "\n",
            "           1       0.28      1.00      0.43        15\n",
            "           2       1.00      0.00      0.00        27\n",
            "           3       1.00      0.00      0.00        12\n",
            "\n",
            "    accuracy                           0.28        54\n",
            "   macro avg       0.76      0.33      0.14        54\n",
            "weighted avg       0.80      0.28      0.12        54\n",
            "\n",
            "--------------------------------------------------\n",
            "--------------------------------------------------\n",
            "Accuracy:\n",
            "0.2777777777777778\n"
          ]
        },
        {
          "output_type": "display_data",
          "data": {
            "image/png": "[encoded data removed]",
            "text/plain": [
              "<Figure size 432x288 with 2 Axes>"
            ]
          },
          "metadata": {
            "needs_background": "light"
          }
        }
      ]
    },
    {
      "cell_type": "markdown",
      "metadata": {
        "id": "cudLo-sEWdxP"
      },
      "source": [
        "**60-40 SPLIT WITHOUT PARAMETER TUNING**"
      ]
    },
    {
      "cell_type": "code",
      "metadata": {
        "colab": {
          "base_uri": "https://localhost:8080/",
          "height": 622
        },
        "id": "uaUWH023NUfQ",
        "outputId": "84e4d87e-685c-4d6e-910b-f027ea89da2c"
      },
      "source": [
        "from sklearn.model_selection import train_test_split\n",
        "X_train, X_test, y_train, y_test = train_test_split(X,y,train_size=0.6,test_size=0.4,random_state=10)\n",
        "\n",
        "# Feature Scaling \n",
        "from sklearn.preprocessing import StandardScaler\n",
        "\n",
        "sc = StandardScaler()\n",
        "X_train = sc.fit_transform(X_train)\n",
        "X_test = sc.transform(X_test)\n",
        "\n",
        "# Classification\n",
        "from hmmlearn import hmm\n",
        "\n",
        "classifier = hmm.GaussianHMM()\n",
        "classifier.fit(X_train)\n",
        "\n",
        "y_pred = classifier.predict(X_test)\n",
        "\n",
        "size = len(y_pred)\n",
        "strings = np.empty(size, np.unicode_)\n",
        "\n",
        "for i in range (size):\n",
        "    if y_pred[i] == 0:\n",
        "      strings[i] = 1\n",
        "    elif y_pred[i] == 1:\n",
        "      strings[i] = 2\n",
        "    else:\n",
        "      strings[i] = 3\n",
        "\n",
        "strings = strings.astype(np.int)\n",
        "\n",
        "\n",
        "\n",
        "from sklearn.metrics import classification_report, confusion_matrix, accuracy_score\n",
        "\n",
        "print(\"Confusion Matrix:\")\n",
        "print(confusion_matrix(y_test, strings))\n",
        "\n",
        "print(\"--------------------------------------------------\")\n",
        "print(\"--------------------------------------------------\")\n",
        "\n",
        "print(\"Performance Evaluation\")\n",
        "print(classification_report(y_test, strings, zero_division=1))\n",
        "\n",
        "print(\"--------------------------------------------------\")\n",
        "print(\"--------------------------------------------------\")\n",
        "\n",
        "print(\"Accuracy:\")\n",
        "print(accuracy_score(y_test, strings))\n",
        "\n",
        "import matplotlib.pyplot as plt\n",
        "import seaborn as sns\n",
        "cm = confusion_matrix(y_test, strings)\n",
        "sns.heatmap(cm, annot=True, fmt=\"d\",cmap='Blues')\n",
        "plt.show()"
      ],
      "execution_count": 8,
      "outputs": [
        {
          "output_type": "stream",
          "name": "stdout",
          "text": [
            "Confusion Matrix:\n",
            "[[20  0  0]\n",
            " [33  0  0]\n",
            " [19  0  0]]\n",
            "--------------------------------------------------\n",
            "--------------------------------------------------\n",
            "Performance Evaluation\n",
            "              precision    recall  f1-score   support\n",
            "\n",
            "           1       0.28      1.00      0.43        20\n",
            "           2       1.00      0.00      0.00        33\n",
            "           3       1.00      0.00      0.00        19\n",
            "\n",
            "    accuracy                           0.28        72\n",
            "   macro avg       0.76      0.33      0.14        72\n",
            "weighted avg       0.80      0.28      0.12        72\n",
            "\n",
            "--------------------------------------------------\n",
            "--------------------------------------------------\n",
            "Accuracy:\n",
            "0.2777777777777778\n"
          ]
        },
        {
          "output_type": "display_data",
          "data": {
            "image/png": "[encoded data removed]",
            "text/plain": [
              "<Figure size 432x288 with 2 Axes>"
            ]
          },
          "metadata": {
            "needs_background": "light"
          }
        }
      ]
    },
    {
      "cell_type": "markdown",
      "metadata": {
        "id": "QRTQcl8AWZeg"
      },
      "source": [
        "**50-50 SPLIT WITHOUT PARAMETER TUNING**"
      ]
    },
    {
      "cell_type": "code",
      "metadata": {
        "colab": {
          "base_uri": "https://localhost:8080/",
          "height": 626
        },
        "id": "UcJnp0ipNU79",
        "outputId": "e60a94c5-7835-4fbc-ec56-fbe901298b54"
      },
      "source": [
        "from sklearn.model_selection import train_test_split\n",
        "X_train, X_test, y_train, y_test = train_test_split(X,y,train_size=0.5,test_size=0.5,random_state=10)\n",
        "\n",
        "# Feature Scaling \n",
        "from sklearn.preprocessing import StandardScaler\n",
        "\n",
        "sc = StandardScaler()\n",
        "X_train = sc.fit_transform(X_train)\n",
        "X_test = sc.transform(X_test)\n",
        "\n",
        "# Classification\n",
        "from hmmlearn import hmm\n",
        "\n",
        "classifier = hmm.GaussianHMM()\n",
        "classifier.fit(X_train)\n",
        "\n",
        "y_pred = classifier.predict(X_test)\n",
        "\n",
        "size = len(y_pred)\n",
        "strings = np.empty(size, np.unicode_)\n",
        "\n",
        "for i in range (size):\n",
        "    if y_pred[i] == 0:\n",
        "      strings[i] = 1\n",
        "    elif y_pred[i] == 1:\n",
        "      strings[i] = 2\n",
        "    else:\n",
        "      strings[i] = 3\n",
        "\n",
        "strings = strings.astype(np.int)\n",
        "\n",
        "\n",
        "\n",
        "from sklearn.metrics import classification_report, confusion_matrix, accuracy_score\n",
        "\n",
        "print(\"Confusion Matrix:\")\n",
        "print(confusion_matrix(y_test, strings))\n",
        "\n",
        "print(\"--------------------------------------------------\")\n",
        "print(\"--------------------------------------------------\")\n",
        "\n",
        "print(\"Performance Evaluation\")\n",
        "print(classification_report(y_test, strings, zero_division=1))\n",
        "\n",
        "print(\"--------------------------------------------------\")\n",
        "print(\"--------------------------------------------------\")\n",
        "\n",
        "print(\"Accuracy:\")\n",
        "print(accuracy_score(y_test, strings))\n",
        "\n",
        "import matplotlib.pyplot as plt\n",
        "import seaborn as sns\n",
        "cm = confusion_matrix(y_test, strings)\n",
        "sns.heatmap(cm, annot=True, fmt=\"d\",cmap='Blues')\n",
        "plt.show()"
      ],
      "execution_count": 9,
      "outputs": [
        {
          "output_type": "stream",
          "name": "stdout",
          "text": [
            "Confusion Matrix:\n",
            "[[29  0  0]\n",
            " [35  0  0]\n",
            " [25  0  0]]\n",
            "--------------------------------------------------\n",
            "--------------------------------------------------\n",
            "Performance Evaluation\n",
            "              precision    recall  f1-score   support\n",
            "\n",
            "           1       0.33      1.00      0.49        29\n",
            "           2       1.00      0.00      0.00        35\n",
            "           3       1.00      0.00      0.00        25\n",
            "\n",
            "    accuracy                           0.33        89\n",
            "   macro avg       0.78      0.33      0.16        89\n",
            "weighted avg       0.78      0.33      0.16        89\n",
            "\n",
            "--------------------------------------------------\n",
            "--------------------------------------------------\n",
            "Accuracy:\n",
            "0.3258426966292135\n"
          ]
        },
        {
          "output_type": "display_data",
          "data": {
            "image/png": "[encoded data removed]",
            "text/plain": [
              "<Figure size 432x288 with 2 Axes>"
            ]
          },
          "metadata": {
            "needs_background": "light"
          }
        }
      ]
    },
    {
      "cell_type": "markdown",
      "metadata": {
        "id": "yODAsAXUWiWX"
      },
      "source": [
        "**40-60 SPLIT WITHOUT PARAMETER TUNING**"
      ]
    },
    {
      "cell_type": "code",
      "metadata": {
        "colab": {
          "base_uri": "https://localhost:8080/",
          "height": 622
        },
        "id": "QDPhltj4NVEz",
        "outputId": "ba5916c6-7944-4fbb-de4a-61e1d4bdc2d7"
      },
      "source": [
        "from sklearn.model_selection import train_test_split\n",
        "X_train, X_test, y_train, y_test = train_test_split(X,y,train_size=0.4,test_size=0.6,random_state=10)\n",
        "\n",
        "# Feature Scaling \n",
        "from sklearn.preprocessing import StandardScaler\n",
        "\n",
        "sc = StandardScaler()\n",
        "X_train = sc.fit_transform(X_train)\n",
        "X_test = sc.transform(X_test)\n",
        "\n",
        "# Classification\n",
        "from hmmlearn import hmm\n",
        "\n",
        "classifier = hmm.GaussianHMM()\n",
        "classifier.fit(X_train)\n",
        "\n",
        "y_pred = classifier.predict(X_test)\n",
        "\n",
        "size = len(y_pred)\n",
        "strings = np.empty(size, np.unicode_)\n",
        "\n",
        "for i in range (size):\n",
        "    if y_pred[i] == 0:\n",
        "      strings[i] = 1\n",
        "    elif y_pred[i] == 1:\n",
        "      strings[i] = 2\n",
        "    else:\n",
        "      strings[i] = 3\n",
        "\n",
        "strings = strings.astype(np.int)\n",
        "\n",
        "\n",
        "\n",
        "from sklearn.metrics import classification_report, confusion_matrix, accuracy_score\n",
        "\n",
        "print(\"Confusion Matrix:\")\n",
        "print(confusion_matrix(y_test, strings))\n",
        "\n",
        "print(\"--------------------------------------------------\")\n",
        "print(\"--------------------------------------------------\")\n",
        "\n",
        "print(\"Performance Evaluation\")\n",
        "print(classification_report(y_test, strings, zero_division=1))\n",
        "\n",
        "print(\"--------------------------------------------------\")\n",
        "print(\"--------------------------------------------------\")\n",
        "\n",
        "print(\"Accuracy:\")\n",
        "print(accuracy_score(y_test, strings))\n",
        "\n",
        "import matplotlib.pyplot as plt\n",
        "import seaborn as sns\n",
        "cm = confusion_matrix(y_test, strings)\n",
        "sns.heatmap(cm, annot=True, fmt=\"d\",cmap='Blues')\n",
        "plt.show()"
      ],
      "execution_count": 10,
      "outputs": [
        {
          "output_type": "stream",
          "name": "stdout",
          "text": [
            "Confusion Matrix:\n",
            "[[34  0  0]\n",
            " [42  0  0]\n",
            " [31  0  0]]\n",
            "--------------------------------------------------\n",
            "--------------------------------------------------\n",
            "Performance Evaluation\n",
            "              precision    recall  f1-score   support\n",
            "\n",
            "           1       0.32      1.00      0.48        34\n",
            "           2       1.00      0.00      0.00        42\n",
            "           3       1.00      0.00      0.00        31\n",
            "\n",
            "    accuracy                           0.32       107\n",
            "   macro avg       0.77      0.33      0.16       107\n",
            "weighted avg       0.78      0.32      0.15       107\n",
            "\n",
            "--------------------------------------------------\n",
            "--------------------------------------------------\n",
            "Accuracy:\n",
            "0.3177570093457944\n"
          ]
        },
        {
          "output_type": "display_data",
          "data": {
            "image/png": "[encoded data removed]",
            "text/plain": [
              "<Figure size 432x288 with 2 Axes>"
            ]
          },
          "metadata": {
            "needs_background": "light"
          }
        }
      ]
    },
    {
      "cell_type": "markdown",
      "metadata": {
        "id": "BK_L70OAWlHp"
      },
      "source": [
        "**30-70 SPLIT WITHOUT PARAMETER TUNING**"
      ]
    },
    {
      "cell_type": "code",
      "metadata": {
        "colab": {
          "base_uri": "https://localhost:8080/",
          "height": 622
        },
        "id": "8JaMCoeZNVMv",
        "outputId": "0f76e271-7946-45d3-a7e6-97ae9c946fdf"
      },
      "source": [
        "from sklearn.model_selection import train_test_split\n",
        "X_train, X_test, y_train, y_test = train_test_split(X,y,train_size=0.3,test_size=0.7,random_state=10)\n",
        "\n",
        "# Feature Scaling \n",
        "from sklearn.preprocessing import StandardScaler\n",
        "\n",
        "sc = StandardScaler()\n",
        "X_train = sc.fit_transform(X_train)\n",
        "X_test = sc.transform(X_test)\n",
        "\n",
        "# Classification\n",
        "from hmmlearn import hmm\n",
        "\n",
        "classifier = hmm.GaussianHMM()\n",
        "classifier.fit(X_train)\n",
        "\n",
        "y_pred = classifier.predict(X_test)\n",
        "\n",
        "size = len(y_pred)\n",
        "strings = np.empty(size, np.unicode_)\n",
        "\n",
        "for i in range (size):\n",
        "    if y_pred[i] == 0:\n",
        "      strings[i] = 1\n",
        "    elif y_pred[i] == 1:\n",
        "      strings[i] = 2\n",
        "    else:\n",
        "      strings[i] = 3\n",
        "\n",
        "strings = strings.astype(np.int)\n",
        "\n",
        "\n",
        "\n",
        "from sklearn.metrics import classification_report, confusion_matrix, accuracy_score\n",
        "\n",
        "print(\"Confusion Matrix:\")\n",
        "print(confusion_matrix(y_test, strings))\n",
        "\n",
        "print(\"--------------------------------------------------\")\n",
        "print(\"--------------------------------------------------\")\n",
        "\n",
        "print(\"Performance Evaluation\")\n",
        "print(classification_report(y_test, strings, zero_division=1))\n",
        "\n",
        "print(\"--------------------------------------------------\")\n",
        "print(\"--------------------------------------------------\")\n",
        "\n",
        "print(\"Accuracy:\")\n",
        "print(accuracy_score(y_test, strings))\n",
        "\n",
        "import matplotlib.pyplot as plt\n",
        "import seaborn as sns\n",
        "cm = confusion_matrix(y_test, strings)\n",
        "sns.heatmap(cm, annot=True, fmt=\"d\",cmap='Blues')\n",
        "plt.show()"
      ],
      "execution_count": 11,
      "outputs": [
        {
          "output_type": "stream",
          "name": "stdout",
          "text": [
            "Confusion Matrix:\n",
            "[[41  0  0]\n",
            " [49  0  0]\n",
            " [35  0  0]]\n",
            "--------------------------------------------------\n",
            "--------------------------------------------------\n",
            "Performance Evaluation\n",
            "              precision    recall  f1-score   support\n",
            "\n",
            "           1       0.33      1.00      0.49        41\n",
            "           2       1.00      0.00      0.00        49\n",
            "           3       1.00      0.00      0.00        35\n",
            "\n",
            "    accuracy                           0.33       125\n",
            "   macro avg       0.78      0.33      0.16       125\n",
            "weighted avg       0.78      0.33      0.16       125\n",
            "\n",
            "--------------------------------------------------\n",
            "--------------------------------------------------\n",
            "Accuracy:\n",
            "0.328\n"
          ]
        },
        {
          "output_type": "display_data",
          "data": {
            "image/png": "[encoded data removed]",
            "text/plain": [
              "<Figure size 432x288 with 2 Axes>"
            ]
          },
          "metadata": {
            "needs_background": "light"
          }
        }
      ]
    },
    {
      "cell_type": "markdown",
      "metadata": {
        "id": "fkKIaGVsQw9W"
      },
      "source": [
        "WITH PARAMETER TUNING **GAUSSIAN HMM**"
      ]
    },
    {
      "cell_type": "markdown",
      "metadata": {
        "id": "q815isXpWpSG"
      },
      "source": [
        "**70-30 SPLIT WITH PARAMETER TUNING**\n",
        "n_components, covariance_type, n_iter, algorithm, verbose"
      ]
    },
    {
      "cell_type": "code",
      "metadata": {
        "colab": {
          "base_uri": "https://localhost:8080/",
          "height": 626
        },
        "id": "tcKnyMBsSRnX",
        "outputId": "4025e637-4d09-4916-ad63-56413be8f75e"
      },
      "source": [
        "from sklearn.model_selection import train_test_split\n",
        "X_train, X_test, y_train, y_test = train_test_split(X,y,train_size=0.7,test_size=0.3,random_state=10)\n",
        "\n",
        "# Feature Scaling \n",
        "from sklearn.preprocessing import StandardScaler\n",
        "\n",
        "sc = StandardScaler()\n",
        "X_train = sc.fit_transform(X_train)\n",
        "X_test = sc.transform(X_test)\n",
        "\n",
        "# Classification\n",
        "from hmmlearn import hmm\n",
        "\n",
        "classifier = hmm.GaussianHMM(n_components=2, covariance_type=\"full\",n_iter=10,algorithm='viterbi',verbose=False)\n",
        "classifier.fit(X_train)\n",
        "\n",
        "y_pred = classifier.predict(X_test)\n",
        "\n",
        "size = len(y_pred)\n",
        "strings = np.empty(size, np.unicode_)\n",
        "\n",
        "for i in range (size):\n",
        "    if y_pred[i] == 0:\n",
        "      strings[i] = 1\n",
        "    elif y_pred[i] == 1:\n",
        "      strings[i] = 2\n",
        "    else:\n",
        "      strings[i] = 3\n",
        "\n",
        "strings = strings.astype(np.int)\n",
        "\n",
        "\n",
        "\n",
        "from sklearn.metrics import classification_report, confusion_matrix, accuracy_score\n",
        "\n",
        "print(\"Confusion Matrix:\")\n",
        "print(confusion_matrix(y_test, strings))\n",
        "\n",
        "print(\"--------------------------------------------------\")\n",
        "print(\"--------------------------------------------------\")\n",
        "\n",
        "\n",
        "print(\"Performance Evaluation\")\n",
        "print(classification_report(y_test, strings, zero_division=1))\n",
        "\n",
        "\n",
        "print(\"--------------------------------------------------\")\n",
        "print(\"--------------------------------------------------\")\n",
        "\n",
        "print(\"Accuracy:\")\n",
        "print(accuracy_score(y_test, strings))\n",
        "\n",
        "import matplotlib.pyplot as plt\n",
        "import seaborn as sns\n",
        "cm = confusion_matrix(y_test, strings)\n",
        "sns.heatmap(cm, annot=True, fmt=\"d\",cmap='Blues')\n",
        "plt.show()"
      ],
      "execution_count": 12,
      "outputs": [
        {
          "output_type": "stream",
          "name": "stdout",
          "text": [
            "Confusion Matrix:\n",
            "[[ 0 15  0]\n",
            " [25  2  0]\n",
            " [12  0  0]]\n",
            "--------------------------------------------------\n",
            "--------------------------------------------------\n",
            "Performance Evaluation\n",
            "              precision    recall  f1-score   support\n",
            "\n",
            "           1       0.00      0.00      0.00        15\n",
            "           2       0.12      0.07      0.09        27\n",
            "           3       1.00      0.00      0.00        12\n",
            "\n",
            "    accuracy                           0.04        54\n",
            "   macro avg       0.37      0.02      0.03        54\n",
            "weighted avg       0.28      0.04      0.05        54\n",
            "\n",
            "--------------------------------------------------\n",
            "--------------------------------------------------\n",
            "Accuracy:\n",
            "0.037037037037037035\n"
          ]
        },
        {
          "output_type": "display_data",
          "data": {
            "image/png": "[encoded data removed]",
            "text/plain": [
              "<Figure size 432x288 with 2 Axes>"
            ]
          },
          "metadata": {
            "needs_background": "light"
          }
        }
      ]
    },
    {
      "cell_type": "markdown",
      "metadata": {
        "id": "aN2s9irDWxrf"
      },
      "source": [
        "**60-40 SPLIT WITH PARAMETER TUNING**\n",
        "n_components, covariance_type, n_iter, algorithm, verbose"
      ]
    },
    {
      "cell_type": "code",
      "metadata": {
        "colab": {
          "base_uri": "https://localhost:8080/",
          "height": 622
        },
        "id": "F1bs-aOYThZl",
        "outputId": "8d59f78a-dc0e-4b4a-92ef-9273be526e01"
      },
      "source": [
        "from sklearn.model_selection import train_test_split\n",
        "X_train, X_test, y_train, y_test = train_test_split(X,y,train_size=0.6,test_size=0.4,random_state=10)\n",
        "\n",
        "# Feature Scaling \n",
        "from sklearn.preprocessing import StandardScaler\n",
        "\n",
        "sc = StandardScaler()\n",
        "X_train = sc.fit_transform(X_train)\n",
        "X_test = sc.transform(X_test)\n",
        "\n",
        "# Classification\n",
        "from hmmlearn import hmm\n",
        "\n",
        "classifier = hmm.GaussianHMM(n_components=2, covariance_type=\"full\",n_iter=10,algorithm='viterbi',verbose=False)\n",
        "classifier.fit(X_train)\n",
        "\n",
        "y_pred = classifier.predict(X_test)\n",
        "\n",
        "size = len(y_pred)\n",
        "strings = np.empty(size, np.unicode_)\n",
        "\n",
        "for i in range (size):\n",
        "    if y_pred[i] == 0:\n",
        "      strings[i] = 1\n",
        "    elif y_pred[i] == 1:\n",
        "      strings[i] = 2\n",
        "    else:\n",
        "      strings[i] = 3\n",
        "\n",
        "strings = strings.astype(np.int)\n",
        "\n",
        "\n",
        "\n",
        "from sklearn.metrics import classification_report, confusion_matrix, accuracy_score\n",
        "\n",
        "print(\"Confusion Matrix:\")\n",
        "print(confusion_matrix(y_test, strings))\n",
        "\n",
        "print(\"--------------------------------------------------\")\n",
        "print(\"--------------------------------------------------\")\n",
        "\n",
        "\n",
        "print(\"Performance Evaluation\")\n",
        "print(classification_report(y_test, strings, zero_division=1))\n",
        "\n",
        "\n",
        "print(\"--------------------------------------------------\")\n",
        "print(\"--------------------------------------------------\")\n",
        "\n",
        "print(\"Accuracy:\")\n",
        "print(accuracy_score(y_test, strings))\n",
        "\n",
        "import matplotlib.pyplot as plt\n",
        "import seaborn as sns\n",
        "cm = confusion_matrix(y_test, strings)\n",
        "sns.heatmap(cm, annot=True, fmt=\"d\",cmap='Blues')\n",
        "plt.show()"
      ],
      "execution_count": 13,
      "outputs": [
        {
          "output_type": "stream",
          "name": "stdout",
          "text": [
            "Confusion Matrix:\n",
            "[[20  0  0]\n",
            " [ 2 31  0]\n",
            " [ 0 19  0]]\n",
            "--------------------------------------------------\n",
            "--------------------------------------------------\n",
            "Performance Evaluation\n",
            "              precision    recall  f1-score   support\n",
            "\n",
            "           1       0.91      1.00      0.95        20\n",
            "           2       0.62      0.94      0.75        33\n",
            "           3       1.00      0.00      0.00        19\n",
            "\n",
            "    accuracy                           0.71        72\n",
            "   macro avg       0.84      0.65      0.57        72\n",
            "weighted avg       0.80      0.71      0.61        72\n",
            "\n",
            "--------------------------------------------------\n",
            "--------------------------------------------------\n",
            "Accuracy:\n",
            "0.7083333333333334\n"
          ]
        },
        {
          "output_type": "display_data",
          "data": {
            "image/png": "[encoded data removed]",
            "text/plain": [
              "<Figure size 432x288 with 2 Axes>"
            ]
          },
          "metadata": {
            "needs_background": "light"
          }
        }
      ]
    },
    {
      "cell_type": "markdown",
      "metadata": {
        "id": "XIcW9utzW0Ji"
      },
      "source": [
        "**50-50 SPLIT WITH PARAMETER TUNING**\n",
        "n_components, covariance_type, n_iter, algorithm, verbose"
      ]
    },
    {
      "cell_type": "code",
      "metadata": {
        "colab": {
          "base_uri": "https://localhost:8080/",
          "height": 622
        },
        "id": "gV5IRnPRTiex",
        "outputId": "53595c27-40c5-4876-ec5a-8ca5c6401021"
      },
      "source": [
        "from sklearn.model_selection import train_test_split\n",
        "X_train, X_test, y_train, y_test = train_test_split(X,y,train_size=0.5,test_size=0.5,random_state=10)\n",
        "\n",
        "# Feature Scaling \n",
        "from sklearn.preprocessing import StandardScaler\n",
        "\n",
        "sc = StandardScaler()\n",
        "X_train = sc.fit_transform(X_train)\n",
        "X_test = sc.transform(X_test)\n",
        "\n",
        "# Classification\n",
        "from hmmlearn import hmm\n",
        "\n",
        "classifier = hmm.GaussianHMM(n_components=2, covariance_type=\"full\",n_iter=10,algorithm='viterbi',verbose=False)\n",
        "classifier.fit(X_train)\n",
        "\n",
        "y_pred = classifier.predict(X_test)\n",
        "\n",
        "size = len(y_pred)\n",
        "strings = np.empty(size, np.unicode_)\n",
        "\n",
        "for i in range (size):\n",
        "    if y_pred[i] == 0:\n",
        "      strings[i] = 1\n",
        "    elif y_pred[i] == 1:\n",
        "      strings[i] = 2\n",
        "    else:\n",
        "      strings[i] = 3\n",
        "\n",
        "strings = strings.astype(np.int)\n",
        "\n",
        "\n",
        "\n",
        "from sklearn.metrics import classification_report, confusion_matrix, accuracy_score\n",
        "\n",
        "print(\"Confusion Matrix:\")\n",
        "print(confusion_matrix(y_test, strings))\n",
        "\n",
        "print(\"--------------------------------------------------\")\n",
        "print(\"--------------------------------------------------\")\n",
        "\n",
        "\n",
        "print(\"Performance Evaluation\")\n",
        "print(classification_report(y_test, strings, zero_division=1))\n",
        "\n",
        "\n",
        "print(\"--------------------------------------------------\")\n",
        "print(\"--------------------------------------------------\")\n",
        "\n",
        "print(\"Accuracy:\")\n",
        "print(accuracy_score(y_test, strings))\n",
        "\n",
        "import matplotlib.pyplot as plt\n",
        "import seaborn as sns\n",
        "cm = confusion_matrix(y_test, strings)\n",
        "sns.heatmap(cm, annot=True, fmt=\"d\",cmap='Blues')\n",
        "plt.show()"
      ],
      "execution_count": 14,
      "outputs": [
        {
          "output_type": "stream",
          "name": "stdout",
          "text": [
            "Confusion Matrix:\n",
            "[[29  0  0]\n",
            " [ 2 33  0]\n",
            " [ 0 25  0]]\n",
            "--------------------------------------------------\n",
            "--------------------------------------------------\n",
            "Performance Evaluation\n",
            "              precision    recall  f1-score   support\n",
            "\n",
            "           1       0.94      1.00      0.97        29\n",
            "           2       0.57      0.94      0.71        35\n",
            "           3       1.00      0.00      0.00        25\n",
            "\n",
            "    accuracy                           0.70        89\n",
            "   macro avg       0.83      0.65      0.56        89\n",
            "weighted avg       0.81      0.70      0.59        89\n",
            "\n",
            "--------------------------------------------------\n",
            "--------------------------------------------------\n",
            "Accuracy:\n",
            "0.6966292134831461\n"
          ]
        },
        {
          "output_type": "display_data",
          "data": {
            "image/png": "[encoded data removed]",
            "text/plain": [
              "<Figure size 432x288 with 2 Axes>"
            ]
          },
          "metadata": {
            "needs_background": "light"
          }
        }
      ]
    },
    {
      "cell_type": "markdown",
      "metadata": {
        "id": "8G4hJw47W3MR"
      },
      "source": [
        "**40-60 SPLIT WITH PARAMETER TUNING**\n",
        "n_components, covariance_type, n_iter, algorithm, verbose"
      ]
    },
    {
      "cell_type": "code",
      "metadata": {
        "colab": {
          "base_uri": "https://localhost:8080/",
          "height": 622
        },
        "id": "6n-PEu6uTiyT",
        "outputId": "ef18a11b-8fb1-4559-b1a0-640cc74b4150"
      },
      "source": [
        "from sklearn.model_selection import train_test_split\n",
        "X_train, X_test, y_train, y_test = train_test_split(X,y,train_size=0.4,test_size=0.6,random_state=10)\n",
        "\n",
        "# Feature Scaling \n",
        "from sklearn.preprocessing import StandardScaler\n",
        "\n",
        "sc = StandardScaler()\n",
        "X_train = sc.fit_transform(X_train)\n",
        "X_test = sc.transform(X_test)\n",
        "\n",
        "# Classification\n",
        "from hmmlearn import hmm\n",
        "\n",
        "classifier = hmm.GaussianHMM(n_components=2, covariance_type=\"full\",n_iter=10,algorithm='viterbi',verbose=False)\n",
        "classifier.fit(X_train)\n",
        "\n",
        "y_pred = classifier.predict(X_test)\n",
        "\n",
        "size = len(y_pred)\n",
        "strings = np.empty(size, np.unicode_)\n",
        "\n",
        "for i in range (size):\n",
        "    if y_pred[i] == 0:\n",
        "      strings[i] = 1\n",
        "    elif y_pred[i] == 1:\n",
        "      strings[i] = 2\n",
        "    else:\n",
        "      strings[i] = 3\n",
        "\n",
        "strings = strings.astype(np.int)\n",
        "\n",
        "\n",
        "\n",
        "from sklearn.metrics import classification_report, confusion_matrix, accuracy_score\n",
        "\n",
        "print(\"Confusion Matrix:\")\n",
        "print(confusion_matrix(y_test, strings))\n",
        "\n",
        "print(\"--------------------------------------------------\")\n",
        "print(\"--------------------------------------------------\")\n",
        "\n",
        "\n",
        "print(\"Performance Evaluation\")\n",
        "print(classification_report(y_test, strings, zero_division=1))\n",
        "\n",
        "\n",
        "print(\"--------------------------------------------------\")\n",
        "print(\"--------------------------------------------------\")\n",
        "\n",
        "print(\"Accuracy:\")\n",
        "print(accuracy_score(y_test, strings))\n",
        "\n",
        "import matplotlib.pyplot as plt\n",
        "import seaborn as sns\n",
        "cm = confusion_matrix(y_test, strings)\n",
        "sns.heatmap(cm, annot=True, fmt=\"d\",cmap='Blues')\n",
        "plt.show()"
      ],
      "execution_count": 15,
      "outputs": [
        {
          "output_type": "stream",
          "name": "stdout",
          "text": [
            "Confusion Matrix:\n",
            "[[31  3  0]\n",
            " [ 1 41  0]\n",
            " [ 0 31  0]]\n",
            "--------------------------------------------------\n",
            "--------------------------------------------------\n",
            "Performance Evaluation\n",
            "              precision    recall  f1-score   support\n",
            "\n",
            "           1       0.97      0.91      0.94        34\n",
            "           2       0.55      0.98      0.70        42\n",
            "           3       1.00      0.00      0.00        31\n",
            "\n",
            "    accuracy                           0.67       107\n",
            "   macro avg       0.84      0.63      0.55       107\n",
            "weighted avg       0.81      0.67      0.57       107\n",
            "\n",
            "--------------------------------------------------\n",
            "--------------------------------------------------\n",
            "Accuracy:\n",
            "0.6728971962616822\n"
          ]
        },
        {
          "output_type": "display_data",
          "data": {
            "image/png": "[encoded data removed]",
            "text/plain": [
              "<Figure size 432x288 with 2 Axes>"
            ]
          },
          "metadata": {
            "needs_background": "light"
          }
        }
      ]
    },
    {
      "cell_type": "markdown",
      "metadata": {
        "id": "RxepuHjlW5k3"
      },
      "source": [
        "**30-70 SPLIT WITH PARAMETER TUNING**\n",
        "n_components, covariance_type, n_iter, algorithm, verbose"
      ]
    },
    {
      "cell_type": "code",
      "metadata": {
        "colab": {
          "base_uri": "https://localhost:8080/",
          "height": 622
        },
        "id": "25_9pAFnTi65",
        "outputId": "935cf2e1-e139-45b6-bd2d-752e4a6cd433"
      },
      "source": [
        "from sklearn.model_selection import train_test_split\n",
        "X_train, X_test, y_train, y_test = train_test_split(X,y,train_size=0.3,test_size=0.7,random_state=10)\n",
        "\n",
        "# Feature Scaling \n",
        "from sklearn.preprocessing import StandardScaler\n",
        "\n",
        "sc = StandardScaler()\n",
        "X_train = sc.fit_transform(X_train)\n",
        "X_test = sc.transform(X_test)\n",
        "\n",
        "# Classification\n",
        "from hmmlearn import hmm\n",
        "\n",
        "classifier = hmm.GaussianHMM(n_components=2, covariance_type=\"full\",n_iter=10,algorithm='viterbi',verbose=False)\n",
        "classifier.fit(X_train)\n",
        "\n",
        "y_pred = classifier.predict(X_test)\n",
        "\n",
        "size = len(y_pred)\n",
        "strings = np.empty(size, np.unicode_)\n",
        "\n",
        "for i in range (size):\n",
        "    if y_pred[i] == 0:\n",
        "      strings[i] = 1\n",
        "    elif y_pred[i] == 1:\n",
        "      strings[i] = 2\n",
        "    else:\n",
        "      strings[i] = 3\n",
        "\n",
        "strings = strings.astype(np.int)\n",
        "\n",
        "\n",
        "\n",
        "from sklearn.metrics import classification_report, confusion_matrix, accuracy_score\n",
        "\n",
        "print(\"Confusion Matrix:\")\n",
        "print(confusion_matrix(y_test, strings))\n",
        "\n",
        "print(\"--------------------------------------------------\")\n",
        "print(\"--------------------------------------------------\")\n",
        "\n",
        "\n",
        "print(\"Performance Evaluation\")\n",
        "print(classification_report(y_test, strings, zero_division=1))\n",
        "\n",
        "\n",
        "print(\"--------------------------------------------------\")\n",
        "print(\"--------------------------------------------------\")\n",
        "\n",
        "print(\"Accuracy:\")\n",
        "print(accuracy_score(y_test, strings))\n",
        "\n",
        "import matplotlib.pyplot as plt\n",
        "import seaborn as sns\n",
        "cm = confusion_matrix(y_test, strings)\n",
        "sns.heatmap(cm, annot=True, fmt=\"d\",cmap='Blues')\n",
        "plt.show()"
      ],
      "execution_count": 16,
      "outputs": [
        {
          "output_type": "stream",
          "name": "stdout",
          "text": [
            "Confusion Matrix:\n",
            "[[40  1  0]\n",
            " [ 7 42  0]\n",
            " [ 0 35  0]]\n",
            "--------------------------------------------------\n",
            "--------------------------------------------------\n",
            "Performance Evaluation\n",
            "              precision    recall  f1-score   support\n",
            "\n",
            "           1       0.85      0.98      0.91        41\n",
            "           2       0.54      0.86      0.66        49\n",
            "           3       1.00      0.00      0.00        35\n",
            "\n",
            "    accuracy                           0.66       125\n",
            "   macro avg       0.80      0.61      0.52       125\n",
            "weighted avg       0.77      0.66      0.56       125\n",
            "\n",
            "--------------------------------------------------\n",
            "--------------------------------------------------\n",
            "Accuracy:\n",
            "0.656\n"
          ]
        },
        {
          "output_type": "display_data",
          "data": {
            "image/png": "[encoded data removed]",
            "text/plain": [
              "<Figure size 432x288 with 2 Axes>"
            ]
          },
          "metadata": {
            "needs_background": "light"
          }
        }
      ]
    },
    {
      "cell_type": "markdown",
      "metadata": {
        "id": "LCSxU_ODXJQB"
      },
      "source": [
        "WITHOUT PARAMETER TUNING **GMM HMM**"
      ]
    },
    {
      "cell_type": "markdown",
      "metadata": {
        "id": "dGBoYoRNXJQB"
      },
      "source": [
        "**70-30 SPLIT WITHOUT PARAMETER TUNING**\n"
      ]
    },
    {
      "cell_type": "code",
      "metadata": {
        "colab": {
          "base_uri": "https://localhost:8080/",
          "height": 622
        },
        "id": "dfC-C2rkUnEj",
        "outputId": "cf1b0a3e-4882-4182-d0c6-266cd4b2c79a"
      },
      "source": [
        "from sklearn.model_selection import train_test_split\n",
        "X_train, X_test, y_train, y_test = train_test_split(X,y,train_size=0.7,test_size=0.3,random_state=10)\n",
        "\n",
        "# Feature Scaling \n",
        "from sklearn.preprocessing import StandardScaler\n",
        "\n",
        "sc = StandardScaler()\n",
        "X_train = sc.fit_transform(X_train)\n",
        "X_test = sc.transform(X_test)\n",
        "\n",
        "# Classification\n",
        "from hmmlearn import hmm\n",
        "\n",
        "classifier = hmm.GMMHMM()\n",
        "classifier.fit(X_train)\n",
        "\n",
        "y_pred = classifier.predict(X_test)\n",
        "\n",
        "size = len(y_pred)\n",
        "strings = np.empty(size, np.unicode_)\n",
        "\n",
        "for i in range (size):\n",
        "    if y_pred[i] == 0:\n",
        "      strings[i] = 1\n",
        "    elif y_pred[i] == 1:\n",
        "      strings[i] = 2\n",
        "    else:\n",
        "      strings[i] = 3\n",
        "\n",
        "strings = strings.astype(np.int)\n",
        "\n",
        "\n",
        "\n",
        "from sklearn.metrics import classification_report, confusion_matrix, accuracy_score\n",
        "\n",
        "print(\"Confusion Matrix:\")\n",
        "print(confusion_matrix(y_test, strings))\n",
        "\n",
        "print(\"--------------------------------------------------\")\n",
        "print(\"--------------------------------------------------\")\n",
        "\n",
        "print(\"Performance Evaluation\")\n",
        "print(classification_report(y_test, strings, zero_division=1))\n",
        "\n",
        "print(\"--------------------------------------------------\")\n",
        "print(\"--------------------------------------------------\")\n",
        "\n",
        "print(\"Accuracy:\")\n",
        "print(accuracy_score(y_test, strings))\n",
        "\n",
        "import matplotlib.pyplot as plt\n",
        "import seaborn as sns\n",
        "cm = confusion_matrix(y_test, strings)\n",
        "sns.heatmap(cm, annot=True, fmt=\"d\",cmap='Blues')\n",
        "plt.show()"
      ],
      "execution_count": 17,
      "outputs": [
        {
          "output_type": "stream",
          "name": "stdout",
          "text": [
            "Confusion Matrix:\n",
            "[[15  0  0]\n",
            " [27  0  0]\n",
            " [12  0  0]]\n",
            "--------------------------------------------------\n",
            "--------------------------------------------------\n",
            "Performance Evaluation\n",
            "              precision    recall  f1-score   support\n",
            "\n",
            "           1       0.28      1.00      0.43        15\n",
            "           2       1.00      0.00      0.00        27\n",
            "           3       1.00      0.00      0.00        12\n",
            "\n",
            "    accuracy                           0.28        54\n",
            "   macro avg       0.76      0.33      0.14        54\n",
            "weighted avg       0.80      0.28      0.12        54\n",
            "\n",
            "--------------------------------------------------\n",
            "--------------------------------------------------\n",
            "Accuracy:\n",
            "0.2777777777777778\n"
          ]
        },
        {
          "output_type": "display_data",
          "data": {
            "image/png": "[encoded data removed]",
            "text/plain": [
              "<Figure size 432x288 with 2 Axes>"
            ]
          },
          "metadata": {
            "needs_background": "light"
          }
        }
      ]
    },
    {
      "cell_type": "markdown",
      "metadata": {
        "id": "shlyvuLuXQ4s"
      },
      "source": [
        "**60-40 SPLIT WITHOUT PARAMETER TUNING**\n"
      ]
    },
    {
      "cell_type": "code",
      "metadata": {
        "colab": {
          "base_uri": "https://localhost:8080/",
          "height": 622
        },
        "id": "q8kEQZILU3P6",
        "outputId": "e4abe4ec-c6fb-488f-a13a-b8381088116d"
      },
      "source": [
        "from sklearn.model_selection import train_test_split\n",
        "X_train, X_test, y_train, y_test = train_test_split(X,y,train_size=0.6,test_size=0.4,random_state=10)\n",
        "\n",
        "# Feature Scaling \n",
        "from sklearn.preprocessing import StandardScaler\n",
        "\n",
        "sc = StandardScaler()\n",
        "X_train = sc.fit_transform(X_train)\n",
        "X_test = sc.transform(X_test)\n",
        "\n",
        "# Classification\n",
        "from hmmlearn import hmm\n",
        "\n",
        "classifier = hmm.GMMHMM()\n",
        "classifier.fit(X_train)\n",
        "\n",
        "y_pred = classifier.predict(X_test)\n",
        "\n",
        "size = len(y_pred)\n",
        "strings = np.empty(size, np.unicode_)\n",
        "\n",
        "for i in range (size):\n",
        "    if y_pred[i] == 0:\n",
        "      strings[i] = 1\n",
        "    elif y_pred[i] == 1:\n",
        "      strings[i] = 2\n",
        "    else:\n",
        "      strings[i] = 3\n",
        "\n",
        "strings = strings.astype(np.int)\n",
        "\n",
        "\n",
        "\n",
        "from sklearn.metrics import classification_report, confusion_matrix, accuracy_score\n",
        "\n",
        "print(\"Confusion Matrix:\")\n",
        "print(confusion_matrix(y_test, strings))\n",
        "\n",
        "print(\"--------------------------------------------------\")\n",
        "print(\"--------------------------------------------------\")\n",
        "\n",
        "print(\"Performance Evaluation\")\n",
        "print(classification_report(y_test, strings, zero_division=1))\n",
        "\n",
        "print(\"--------------------------------------------------\")\n",
        "print(\"--------------------------------------------------\")\n",
        "\n",
        "print(\"Accuracy:\")\n",
        "print(accuracy_score(y_test, strings))\n",
        "\n",
        "import matplotlib.pyplot as plt\n",
        "import seaborn as sns\n",
        "cm = confusion_matrix(y_test, strings)\n",
        "sns.heatmap(cm, annot=True, fmt=\"d\",cmap='Blues')\n",
        "plt.show()"
      ],
      "execution_count": 18,
      "outputs": [
        {
          "output_type": "stream",
          "name": "stdout",
          "text": [
            "Confusion Matrix:\n",
            "[[20  0  0]\n",
            " [33  0  0]\n",
            " [19  0  0]]\n",
            "--------------------------------------------------\n",
            "--------------------------------------------------\n",
            "Performance Evaluation\n",
            "              precision    recall  f1-score   support\n",
            "\n",
            "           1       0.28      1.00      0.43        20\n",
            "           2       1.00      0.00      0.00        33\n",
            "           3       1.00      0.00      0.00        19\n",
            "\n",
            "    accuracy                           0.28        72\n",
            "   macro avg       0.76      0.33      0.14        72\n",
            "weighted avg       0.80      0.28      0.12        72\n",
            "\n",
            "--------------------------------------------------\n",
            "--------------------------------------------------\n",
            "Accuracy:\n",
            "0.2777777777777778\n"
          ]
        },
        {
          "output_type": "display_data",
          "data": {
            "image/png": "[encoded data removed]",
            "text/plain": [
              "<Figure size 432x288 with 2 Axes>"
            ]
          },
          "metadata": {
            "needs_background": "light"
          }
        }
      ]
    },
    {
      "cell_type": "markdown",
      "metadata": {
        "id": "ucywtJq8XUGS"
      },
      "source": [
        "**50-50 SPLIT WITHOUT PARAMETER TUNING**\n"
      ]
    },
    {
      "cell_type": "code",
      "metadata": {
        "colab": {
          "base_uri": "https://localhost:8080/",
          "height": 626
        },
        "id": "C4U04asPU6c6",
        "outputId": "f78d6523-8e8d-4683-ecf4-505cab9b0638"
      },
      "source": [
        "from sklearn.model_selection import train_test_split\n",
        "X_train, X_test, y_train, y_test = train_test_split(X,y,train_size=0.5,test_size=0.5,random_state=10)\n",
        "\n",
        "# Feature Scaling \n",
        "from sklearn.preprocessing import StandardScaler\n",
        "\n",
        "sc = StandardScaler()\n",
        "X_train = sc.fit_transform(X_train)\n",
        "X_test = sc.transform(X_test)\n",
        "\n",
        "# Classification\n",
        "from hmmlearn import hmm\n",
        "\n",
        "classifier = hmm.GMMHMM()\n",
        "classifier.fit(X_train)\n",
        "\n",
        "y_pred = classifier.predict(X_test)\n",
        "\n",
        "size = len(y_pred)\n",
        "strings = np.empty(size, np.unicode_)\n",
        "\n",
        "for i in range (size):\n",
        "    if y_pred[i] == 0:\n",
        "      strings[i] = 1\n",
        "    elif y_pred[i] == 1:\n",
        "      strings[i] = 2\n",
        "    else:\n",
        "      strings[i] = 3\n",
        "\n",
        "strings = strings.astype(np.int)\n",
        "\n",
        "\n",
        "\n",
        "from sklearn.metrics import classification_report, confusion_matrix, accuracy_score\n",
        "\n",
        "print(\"Confusion Matrix:\")\n",
        "print(confusion_matrix(y_test, strings))\n",
        "\n",
        "print(\"--------------------------------------------------\")\n",
        "print(\"--------------------------------------------------\")\n",
        "\n",
        "print(\"Performance Evaluation\")\n",
        "print(classification_report(y_test, strings, zero_division=1))\n",
        "\n",
        "print(\"--------------------------------------------------\")\n",
        "print(\"--------------------------------------------------\")\n",
        "\n",
        "print(\"Accuracy:\")\n",
        "print(accuracy_score(y_test, strings))\n",
        "\n",
        "import matplotlib.pyplot as plt\n",
        "import seaborn as sns\n",
        "cm = confusion_matrix(y_test, strings)\n",
        "sns.heatmap(cm, annot=True, fmt=\"d\",cmap='Blues')\n",
        "plt.show()"
      ],
      "execution_count": 19,
      "outputs": [
        {
          "output_type": "stream",
          "name": "stdout",
          "text": [
            "Confusion Matrix:\n",
            "[[29  0  0]\n",
            " [35  0  0]\n",
            " [25  0  0]]\n",
            "--------------------------------------------------\n",
            "--------------------------------------------------\n",
            "Performance Evaluation\n",
            "              precision    recall  f1-score   support\n",
            "\n",
            "           1       0.33      1.00      0.49        29\n",
            "           2       1.00      0.00      0.00        35\n",
            "           3       1.00      0.00      0.00        25\n",
            "\n",
            "    accuracy                           0.33        89\n",
            "   macro avg       0.78      0.33      0.16        89\n",
            "weighted avg       0.78      0.33      0.16        89\n",
            "\n",
            "--------------------------------------------------\n",
            "--------------------------------------------------\n",
            "Accuracy:\n",
            "0.3258426966292135\n"
          ]
        },
        {
          "output_type": "display_data",
          "data": {
            "image/png": "[encoded data removed]",
            "text/plain": [
              "<Figure size 432x288 with 2 Axes>"
            ]
          },
          "metadata": {
            "needs_background": "light"
          }
        }
      ]
    },
    {
      "cell_type": "markdown",
      "metadata": {
        "id": "I51OfLtXXWr-"
      },
      "source": [
        "**40-60 SPLIT WITHOUT PARAMETER TUNING**\n"
      ]
    },
    {
      "cell_type": "code",
      "metadata": {
        "colab": {
          "base_uri": "https://localhost:8080/",
          "height": 622
        },
        "id": "JuTfSIkJU7LQ",
        "outputId": "8f98e23e-2c6e-4f75-94bc-55f5c724e237"
      },
      "source": [
        "from sklearn.model_selection import train_test_split\n",
        "X_train, X_test, y_train, y_test = train_test_split(X,y,train_size=0.4,test_size=0.6,random_state=10)\n",
        "\n",
        "# Feature Scaling \n",
        "from sklearn.preprocessing import StandardScaler\n",
        "\n",
        "sc = StandardScaler()\n",
        "X_train = sc.fit_transform(X_train)\n",
        "X_test = sc.transform(X_test)\n",
        "\n",
        "# Classification\n",
        "from hmmlearn import hmm\n",
        "\n",
        "classifier = hmm.GMMHMM()\n",
        "classifier.fit(X_train)\n",
        "\n",
        "y_pred = classifier.predict(X_test)\n",
        "\n",
        "size = len(y_pred)\n",
        "strings = np.empty(size, np.unicode_)\n",
        "\n",
        "for i in range (size):\n",
        "    if y_pred[i] == 0:\n",
        "      strings[i] = 1\n",
        "    elif y_pred[i] == 1:\n",
        "      strings[i] = 2\n",
        "    else:\n",
        "      strings[i] = 3\n",
        "\n",
        "strings = strings.astype(np.int)\n",
        "\n",
        "\n",
        "\n",
        "from sklearn.metrics import classification_report, confusion_matrix, accuracy_score\n",
        "\n",
        "print(\"Confusion Matrix:\")\n",
        "print(confusion_matrix(y_test, strings))\n",
        "\n",
        "print(\"--------------------------------------------------\")\n",
        "print(\"--------------------------------------------------\")\n",
        "\n",
        "print(\"Performance Evaluation\")\n",
        "print(classification_report(y_test, strings, zero_division=1))\n",
        "\n",
        "print(\"--------------------------------------------------\")\n",
        "print(\"--------------------------------------------------\")\n",
        "\n",
        "print(\"Accuracy:\")\n",
        "print(accuracy_score(y_test, strings))\n",
        "\n",
        "import matplotlib.pyplot as plt\n",
        "import seaborn as sns\n",
        "cm = confusion_matrix(y_test, strings)\n",
        "sns.heatmap(cm, annot=True, fmt=\"d\",cmap='Blues')\n",
        "plt.show()"
      ],
      "execution_count": 20,
      "outputs": [
        {
          "output_type": "stream",
          "name": "stdout",
          "text": [
            "Confusion Matrix:\n",
            "[[34  0  0]\n",
            " [42  0  0]\n",
            " [31  0  0]]\n",
            "--------------------------------------------------\n",
            "--------------------------------------------------\n",
            "Performance Evaluation\n",
            "              precision    recall  f1-score   support\n",
            "\n",
            "           1       0.32      1.00      0.48        34\n",
            "           2       1.00      0.00      0.00        42\n",
            "           3       1.00      0.00      0.00        31\n",
            "\n",
            "    accuracy                           0.32       107\n",
            "   macro avg       0.77      0.33      0.16       107\n",
            "weighted avg       0.78      0.32      0.15       107\n",
            "\n",
            "--------------------------------------------------\n",
            "--------------------------------------------------\n",
            "Accuracy:\n",
            "0.3177570093457944\n"
          ]
        },
        {
          "output_type": "display_data",
          "data": {
            "image/png": "[encoded data removed]",
            "text/plain": [
              "<Figure size 432x288 with 2 Axes>"
            ]
          },
          "metadata": {
            "needs_background": "light"
          }
        }
      ]
    },
    {
      "cell_type": "markdown",
      "metadata": {
        "id": "iqip5tQrXZOu"
      },
      "source": [
        "**30-70 SPLIT WITHOUT PARAMETER TUNING**\n"
      ]
    },
    {
      "cell_type": "code",
      "metadata": {
        "colab": {
          "base_uri": "https://localhost:8080/",
          "height": 622
        },
        "id": "1h0rM9VEU7U4",
        "outputId": "10762820-62e2-4246-c139-3358d7bd3e8e"
      },
      "source": [
        "from sklearn.model_selection import train_test_split\n",
        "X_train, X_test, y_train, y_test = train_test_split(X,y,train_size=0.3,test_size=0.7,random_state=10)\n",
        "\n",
        "# Feature Scaling \n",
        "from sklearn.preprocessing import StandardScaler\n",
        "\n",
        "sc = StandardScaler()\n",
        "X_train = sc.fit_transform(X_train)\n",
        "X_test = sc.transform(X_test)\n",
        "\n",
        "# Classification\n",
        "from hmmlearn import hmm\n",
        "\n",
        "classifier = hmm.GMMHMM()\n",
        "classifier.fit(X_train)\n",
        "\n",
        "y_pred = classifier.predict(X_test)\n",
        "\n",
        "size = len(y_pred)\n",
        "strings = np.empty(size, np.unicode_)\n",
        "\n",
        "for i in range (size):\n",
        "    if y_pred[i] == 0:\n",
        "      strings[i] = 1\n",
        "    elif y_pred[i] == 1:\n",
        "      strings[i] = 2\n",
        "    else:\n",
        "      strings[i] = 3\n",
        "\n",
        "strings = strings.astype(np.int)\n",
        "\n",
        "\n",
        "\n",
        "from sklearn.metrics import classification_report, confusion_matrix, accuracy_score\n",
        "\n",
        "print(\"Confusion Matrix:\")\n",
        "print(confusion_matrix(y_test, strings))\n",
        "\n",
        "print(\"--------------------------------------------------\")\n",
        "print(\"--------------------------------------------------\")\n",
        "\n",
        "print(\"Performance Evaluation\")\n",
        "print(classification_report(y_test, strings, zero_division=1))\n",
        "\n",
        "print(\"--------------------------------------------------\")\n",
        "print(\"--------------------------------------------------\")\n",
        "\n",
        "print(\"Accuracy:\")\n",
        "print(accuracy_score(y_test, strings))\n",
        "\n",
        "import matplotlib.pyplot as plt\n",
        "import seaborn as sns\n",
        "cm = confusion_matrix(y_test, strings)\n",
        "sns.heatmap(cm, annot=True, fmt=\"d\",cmap='Blues')\n",
        "plt.show()"
      ],
      "execution_count": 21,
      "outputs": [
        {
          "output_type": "stream",
          "name": "stdout",
          "text": [
            "Confusion Matrix:\n",
            "[[41  0  0]\n",
            " [49  0  0]\n",
            " [35  0  0]]\n",
            "--------------------------------------------------\n",
            "--------------------------------------------------\n",
            "Performance Evaluation\n",
            "              precision    recall  f1-score   support\n",
            "\n",
            "           1       0.33      1.00      0.49        41\n",
            "           2       1.00      0.00      0.00        49\n",
            "           3       1.00      0.00      0.00        35\n",
            "\n",
            "    accuracy                           0.33       125\n",
            "   macro avg       0.78      0.33      0.16       125\n",
            "weighted avg       0.78      0.33      0.16       125\n",
            "\n",
            "--------------------------------------------------\n",
            "--------------------------------------------------\n",
            "Accuracy:\n",
            "0.328\n"
          ]
        },
        {
          "output_type": "display_data",
          "data": {
            "image/png": "[encoded data removed]",
            "text/plain": [
              "<Figure size 432x288 with 2 Axes>"
            ]
          },
          "metadata": {
            "needs_background": "light"
          }
        }
      ]
    },
    {
      "cell_type": "markdown",
      "metadata": {
        "id": "lNyMPcwwXihW"
      },
      "source": [
        "WITH PARAMETER TUNING **GMM HMM**"
      ]
    },
    {
      "cell_type": "markdown",
      "metadata": {
        "id": "d4G6FIoLXihW"
      },
      "source": [
        "**70-30 SPLIT WITH PARAMETER TUNING**\n",
        "n_components, covariance_type, n_iter, algorithm, verbose"
      ]
    },
    {
      "cell_type": "code",
      "metadata": {
        "colab": {
          "base_uri": "https://localhost:8080/",
          "height": 626
        },
        "id": "2n2_1qwVXpmd",
        "outputId": "6ac29139-f0a7-43b4-d8f8-e29f7cecfe1f"
      },
      "source": [
        "from sklearn.model_selection import train_test_split\n",
        "X_train, X_test, y_train, y_test = train_test_split(X,y,train_size=0.7,test_size=0.3,random_state=10)\n",
        "\n",
        "# Feature Scaling \n",
        "from sklearn.preprocessing import StandardScaler\n",
        "\n",
        "sc = StandardScaler()\n",
        "X_train = sc.fit_transform(X_train)\n",
        "X_test = sc.transform(X_test)\n",
        "\n",
        "# Classification\n",
        "from hmmlearn import hmm\n",
        "\n",
        "classifier = hmm.GMMHMM(n_components=2, covariance_type=\"full\",n_iter=10,algorithm='viterbi',verbose=False)\n",
        "classifier.fit(X_train)\n",
        "\n",
        "y_pred = classifier.predict(X_test)\n",
        "\n",
        "size = len(y_pred)\n",
        "strings = np.empty(size, np.unicode_)\n",
        "\n",
        "for i in range (size):\n",
        "    if y_pred[i] == 0:\n",
        "      strings[i] = 1\n",
        "    elif y_pred[i] == 1:\n",
        "      strings[i] = 2\n",
        "    else:\n",
        "      strings[i] = 3\n",
        "\n",
        "strings = strings.astype(np.int)\n",
        "\n",
        "\n",
        "\n",
        "from sklearn.metrics import classification_report, confusion_matrix, accuracy_score\n",
        "\n",
        "print(\"Confusion Matrix:\")\n",
        "print(confusion_matrix(y_test, strings))\n",
        "\n",
        "print(\"--------------------------------------------------\")\n",
        "print(\"--------------------------------------------------\")\n",
        "\n",
        "\n",
        "print(\"Performance Evaluation\")\n",
        "print(classification_report(y_test, strings, zero_division=1))\n",
        "\n",
        "\n",
        "print(\"--------------------------------------------------\")\n",
        "print(\"--------------------------------------------------\")\n",
        "\n",
        "print(\"Accuracy:\")\n",
        "print(accuracy_score(y_test, strings))\n",
        "\n",
        "import matplotlib.pyplot as plt\n",
        "import seaborn as sns\n",
        "cm = confusion_matrix(y_test, strings)\n",
        "sns.heatmap(cm, annot=True, fmt=\"d\",cmap='Blues')\n",
        "plt.show()"
      ],
      "execution_count": 22,
      "outputs": [
        {
          "output_type": "stream",
          "name": "stdout",
          "text": [
            "Confusion Matrix:\n",
            "[[ 0 15  0]\n",
            " [25  2  0]\n",
            " [12  0  0]]\n",
            "--------------------------------------------------\n",
            "--------------------------------------------------\n",
            "Performance Evaluation\n",
            "              precision    recall  f1-score   support\n",
            "\n",
            "           1       0.00      0.00      0.00        15\n",
            "           2       0.12      0.07      0.09        27\n",
            "           3       1.00      0.00      0.00        12\n",
            "\n",
            "    accuracy                           0.04        54\n",
            "   macro avg       0.37      0.02      0.03        54\n",
            "weighted avg       0.28      0.04      0.05        54\n",
            "\n",
            "--------------------------------------------------\n",
            "--------------------------------------------------\n",
            "Accuracy:\n",
            "0.037037037037037035\n"
          ]
        },
        {
          "output_type": "display_data",
          "data": {
            "image/png": "[encoded data removed]",
            "text/plain": [
              "<Figure size 432x288 with 2 Axes>"
            ]
          },
          "metadata": {
            "needs_background": "light"
          }
        }
      ]
    },
    {
      "cell_type": "markdown",
      "metadata": {
        "id": "2bfh2hjlXuX6"
      },
      "source": [
        "**60-40 SPLIT WITH PARAMETER TUNING**\n",
        "n_components, covariance_type, n_iter, algorithm, verbose"
      ]
    },
    {
      "cell_type": "code",
      "metadata": {
        "colab": {
          "base_uri": "https://localhost:8080/",
          "height": 622
        },
        "id": "4PTwAhPzU-_1",
        "outputId": "925b5b57-3320-4645-acb5-1afc63be5852"
      },
      "source": [
        "from sklearn.model_selection import train_test_split\n",
        "X_train, X_test, y_train, y_test = train_test_split(X,y,train_size=0.6,test_size=0.4,random_state=10)\n",
        "\n",
        "# Feature Scaling \n",
        "from sklearn.preprocessing import StandardScaler\n",
        "\n",
        "sc = StandardScaler()\n",
        "X_train = sc.fit_transform(X_train)\n",
        "X_test = sc.transform(X_test)\n",
        "\n",
        "# Classification\n",
        "from hmmlearn import hmm\n",
        "\n",
        "classifier = hmm.GMMHMM(n_components=2, covariance_type=\"full\",n_iter=10,algorithm='viterbi',verbose=False)\n",
        "classifier.fit(X_train)\n",
        "\n",
        "y_pred = classifier.predict(X_test)\n",
        "\n",
        "size = len(y_pred)\n",
        "strings = np.empty(size, np.unicode_)\n",
        "\n",
        "for i in range (size):\n",
        "    if y_pred[i] == 0:\n",
        "      strings[i] = 1\n",
        "    elif y_pred[i] == 1:\n",
        "      strings[i] = 2\n",
        "    else:\n",
        "      strings[i] = 3\n",
        "\n",
        "strings = strings.astype(np.int)\n",
        "\n",
        "\n",
        "\n",
        "from sklearn.metrics import classification_report, confusion_matrix, accuracy_score\n",
        "\n",
        "print(\"Confusion Matrix:\")\n",
        "print(confusion_matrix(y_test, strings))\n",
        "\n",
        "print(\"--------------------------------------------------\")\n",
        "print(\"--------------------------------------------------\")\n",
        "\n",
        "\n",
        "print(\"Performance Evaluation\")\n",
        "print(classification_report(y_test, strings, zero_division=1))\n",
        "\n",
        "\n",
        "print(\"--------------------------------------------------\")\n",
        "print(\"--------------------------------------------------\")\n",
        "\n",
        "print(\"Accuracy:\")\n",
        "print(accuracy_score(y_test, strings))\n",
        "\n",
        "import matplotlib.pyplot as plt\n",
        "import seaborn as sns\n",
        "cm = confusion_matrix(y_test, strings)\n",
        "sns.heatmap(cm, annot=True, fmt=\"d\",cmap='Blues')\n",
        "plt.show()"
      ],
      "execution_count": 23,
      "outputs": [
        {
          "output_type": "stream",
          "name": "stdout",
          "text": [
            "Confusion Matrix:\n",
            "[[20  0  0]\n",
            " [ 1 32  0]\n",
            " [ 0 19  0]]\n",
            "--------------------------------------------------\n",
            "--------------------------------------------------\n",
            "Performance Evaluation\n",
            "              precision    recall  f1-score   support\n",
            "\n",
            "           1       0.95      1.00      0.98        20\n",
            "           2       0.63      0.97      0.76        33\n",
            "           3       1.00      0.00      0.00        19\n",
            "\n",
            "    accuracy                           0.72        72\n",
            "   macro avg       0.86      0.66      0.58        72\n",
            "weighted avg       0.82      0.72      0.62        72\n",
            "\n",
            "--------------------------------------------------\n",
            "--------------------------------------------------\n",
            "Accuracy:\n",
            "0.7222222222222222\n"
          ]
        },
        {
          "output_type": "display_data",
          "data": {
            "image/png": "[encoded data removed]",
            "text/plain": [
              "<Figure size 432x288 with 2 Axes>"
            ]
          },
          "metadata": {
            "needs_background": "light"
          }
        }
      ]
    },
    {
      "cell_type": "markdown",
      "metadata": {
        "id": "my_TUK9AXyRE"
      },
      "source": [
        "**50-50 SPLIT WITH PARAMETER TUNING**\n",
        "n_components, covariance_type, n_iter, algorithm, verbose"
      ]
    },
    {
      "cell_type": "code",
      "metadata": {
        "colab": {
          "base_uri": "https://localhost:8080/",
          "height": 622
        },
        "id": "E5F7PR3BXnsz",
        "outputId": "50dfad7c-f675-44b6-9cb8-d5243f6781f4"
      },
      "source": [
        "from sklearn.model_selection import train_test_split\n",
        "X_train, X_test, y_train, y_test = train_test_split(X,y,train_size=0.5,test_size=0.5,random_state=10)\n",
        "\n",
        "# Feature Scaling \n",
        "from sklearn.preprocessing import StandardScaler\n",
        "\n",
        "sc = StandardScaler()\n",
        "X_train = sc.fit_transform(X_train)\n",
        "X_test = sc.transform(X_test)\n",
        "\n",
        "# Classification\n",
        "from hmmlearn import hmm\n",
        "\n",
        "classifier = hmm.GMMHMM(n_components=2, covariance_type=\"full\",n_iter=10,algorithm='viterbi',verbose=False)\n",
        "classifier.fit(X_train)\n",
        "\n",
        "y_pred = classifier.predict(X_test)\n",
        "\n",
        "size = len(y_pred)\n",
        "strings = np.empty(size, np.unicode_)\n",
        "\n",
        "for i in range (size):\n",
        "    if y_pred[i] == 0:\n",
        "      strings[i] = 1\n",
        "    elif y_pred[i] == 1:\n",
        "      strings[i] = 2\n",
        "    else:\n",
        "      strings[i] = 3\n",
        "\n",
        "strings = strings.astype(np.int)\n",
        "\n",
        "\n",
        "\n",
        "from sklearn.metrics import classification_report, confusion_matrix, accuracy_score\n",
        "\n",
        "print(\"Confusion Matrix:\")\n",
        "print(confusion_matrix(y_test, strings))\n",
        "\n",
        "print(\"--------------------------------------------------\")\n",
        "print(\"--------------------------------------------------\")\n",
        "\n",
        "\n",
        "print(\"Performance Evaluation\")\n",
        "print(classification_report(y_test, strings, zero_division=1))\n",
        "\n",
        "\n",
        "print(\"--------------------------------------------------\")\n",
        "print(\"--------------------------------------------------\")\n",
        "\n",
        "print(\"Accuracy:\")\n",
        "print(accuracy_score(y_test, strings))\n",
        "\n",
        "import matplotlib.pyplot as plt\n",
        "import seaborn as sns\n",
        "cm = confusion_matrix(y_test, strings)\n",
        "sns.heatmap(cm, annot=True, fmt=\"d\",cmap='Blues')\n",
        "plt.show()"
      ],
      "execution_count": 24,
      "outputs": [
        {
          "output_type": "stream",
          "name": "stdout",
          "text": [
            "Confusion Matrix:\n",
            "[[29  0  0]\n",
            " [ 2 33  0]\n",
            " [ 0 25  0]]\n",
            "--------------------------------------------------\n",
            "--------------------------------------------------\n",
            "Performance Evaluation\n",
            "              precision    recall  f1-score   support\n",
            "\n",
            "           1       0.94      1.00      0.97        29\n",
            "           2       0.57      0.94      0.71        35\n",
            "           3       1.00      0.00      0.00        25\n",
            "\n",
            "    accuracy                           0.70        89\n",
            "   macro avg       0.83      0.65      0.56        89\n",
            "weighted avg       0.81      0.70      0.59        89\n",
            "\n",
            "--------------------------------------------------\n",
            "--------------------------------------------------\n",
            "Accuracy:\n",
            "0.6966292134831461\n"
          ]
        },
        {
          "output_type": "display_data",
          "data": {
            "image/png": "[encoded data removed]",
            "text/plain": [
              "<Figure size 432x288 with 2 Axes>"
            ]
          },
          "metadata": {
            "needs_background": "light"
          }
        }
      ]
    },
    {
      "cell_type": "markdown",
      "metadata": {
        "id": "mdobRvbcYjXf"
      },
      "source": [
        "**40-60 SPLIT WITH PARAMETER TUNING**\n",
        "n_components, covariance_type, n_iter, algorithm, verbose"
      ]
    },
    {
      "cell_type": "code",
      "metadata": {
        "colab": {
          "base_uri": "https://localhost:8080/",
          "height": 622
        },
        "id": "X42xi951Xnyu",
        "outputId": "b64db94f-67e0-4696-e7f8-da6399e68bab"
      },
      "source": [
        "from sklearn.model_selection import train_test_split\n",
        "X_train, X_test, y_train, y_test = train_test_split(X,y,train_size=0.4,test_size=0.6,random_state=10)\n",
        "\n",
        "# Feature Scaling \n",
        "from sklearn.preprocessing import StandardScaler\n",
        "\n",
        "sc = StandardScaler()\n",
        "X_train = sc.fit_transform(X_train)\n",
        "X_test = sc.transform(X_test)\n",
        "\n",
        "# Classification\n",
        "from hmmlearn import hmm\n",
        "\n",
        "classifier = hmm.GMMHMM(n_components=2, covariance_type=\"full\",n_iter=10,algorithm='viterbi',verbose=False)\n",
        "classifier.fit(X_train)\n",
        "\n",
        "y_pred = classifier.predict(X_test)\n",
        "\n",
        "size = len(y_pred)\n",
        "strings = np.empty(size, np.unicode_)\n",
        "\n",
        "for i in range (size):\n",
        "    if y_pred[i] == 0:\n",
        "      strings[i] = 1\n",
        "    elif y_pred[i] == 1:\n",
        "      strings[i] = 2\n",
        "    else:\n",
        "      strings[i] = 3\n",
        "\n",
        "strings = strings.astype(np.int)\n",
        "\n",
        "\n",
        "\n",
        "from sklearn.metrics import classification_report, confusion_matrix, accuracy_score\n",
        "\n",
        "print(\"Confusion Matrix:\")\n",
        "print(confusion_matrix(y_test, strings))\n",
        "\n",
        "print(\"--------------------------------------------------\")\n",
        "print(\"--------------------------------------------------\")\n",
        "\n",
        "\n",
        "print(\"Performance Evaluation\")\n",
        "print(classification_report(y_test, strings, zero_division=1))\n",
        "\n",
        "\n",
        "print(\"--------------------------------------------------\")\n",
        "print(\"--------------------------------------------------\")\n",
        "\n",
        "print(\"Accuracy:\")\n",
        "print(accuracy_score(y_test, strings))\n",
        "\n",
        "import matplotlib.pyplot as plt\n",
        "import seaborn as sns\n",
        "cm = confusion_matrix(y_test, strings)\n",
        "sns.heatmap(cm, annot=True, fmt=\"d\",cmap='Blues')\n",
        "plt.show()"
      ],
      "execution_count": 25,
      "outputs": [
        {
          "output_type": "stream",
          "name": "stdout",
          "text": [
            "Confusion Matrix:\n",
            "[[31  3  0]\n",
            " [ 1 41  0]\n",
            " [ 0 31  0]]\n",
            "--------------------------------------------------\n",
            "--------------------------------------------------\n",
            "Performance Evaluation\n",
            "              precision    recall  f1-score   support\n",
            "\n",
            "           1       0.97      0.91      0.94        34\n",
            "           2       0.55      0.98      0.70        42\n",
            "           3       1.00      0.00      0.00        31\n",
            "\n",
            "    accuracy                           0.67       107\n",
            "   macro avg       0.84      0.63      0.55       107\n",
            "weighted avg       0.81      0.67      0.57       107\n",
            "\n",
            "--------------------------------------------------\n",
            "--------------------------------------------------\n",
            "Accuracy:\n",
            "0.6728971962616822\n"
          ]
        },
        {
          "output_type": "display_data",
          "data": {
            "image/png": "[encoded data removed]",
            "text/plain": [
              "<Figure size 432x288 with 2 Axes>"
            ]
          },
          "metadata": {
            "needs_background": "light"
          }
        }
      ]
    },
    {
      "cell_type": "markdown",
      "metadata": {
        "id": "NAuQO7RAYljb"
      },
      "source": [
        "**30-70 SPLIT WITH PARAMETER TUNING**\n",
        "n_components, covariance_type, n_iter, algorithm, verbose"
      ]
    },
    {
      "cell_type": "code",
      "metadata": {
        "colab": {
          "base_uri": "https://localhost:8080/",
          "height": 626
        },
        "id": "m0Ia1ehsXn8F",
        "outputId": "8cb480cc-8d8d-4dd3-9ae7-1fc014d02bd6"
      },
      "source": [
        "from sklearn.model_selection import train_test_split\n",
        "X_train, X_test, y_train, y_test = train_test_split(X,y,train_size=0.3,test_size=0.7,random_state=10)\n",
        "\n",
        "# Feature Scaling \n",
        "from sklearn.preprocessing import StandardScaler\n",
        "\n",
        "sc = StandardScaler()\n",
        "X_train = sc.fit_transform(X_train)\n",
        "X_test = sc.transform(X_test)\n",
        "\n",
        "# Classification\n",
        "from hmmlearn import hmm\n",
        "\n",
        "classifier = hmm.GMMHMM(n_components=2, covariance_type=\"full\",n_iter=10,algorithm='viterbi',verbose=False)\n",
        "classifier.fit(X_train)\n",
        "\n",
        "y_pred = classifier.predict(X_test)\n",
        "\n",
        "size = len(y_pred)\n",
        "strings = np.empty(size, np.unicode_)\n",
        "\n",
        "for i in range (size):\n",
        "    if y_pred[i] == 0:\n",
        "      strings[i] = 1\n",
        "    elif y_pred[i] == 1:\n",
        "      strings[i] = 2\n",
        "    else:\n",
        "      strings[i] = 3\n",
        "\n",
        "strings = strings.astype(np.int)\n",
        "\n",
        "\n",
        "\n",
        "from sklearn.metrics import classification_report, confusion_matrix, accuracy_score\n",
        "\n",
        "print(\"Confusion Matrix:\")\n",
        "print(confusion_matrix(y_test, strings))\n",
        "\n",
        "print(\"--------------------------------------------------\")\n",
        "print(\"--------------------------------------------------\")\n",
        "\n",
        "\n",
        "print(\"Performance Evaluation\")\n",
        "print(classification_report(y_test, strings, zero_division=1))\n",
        "\n",
        "\n",
        "print(\"--------------------------------------------------\")\n",
        "print(\"--------------------------------------------------\")\n",
        "\n",
        "print(\"Accuracy:\")\n",
        "print(accuracy_score(y_test, strings))\n",
        "\n",
        "import matplotlib.pyplot as plt\n",
        "import seaborn as sns\n",
        "cm = confusion_matrix(y_test, strings)\n",
        "sns.heatmap(cm, annot=True, fmt=\"d\",cmap='Blues')\n",
        "plt.show()"
      ],
      "execution_count": 26,
      "outputs": [
        {
          "output_type": "stream",
          "name": "stdout",
          "text": [
            "Confusion Matrix:\n",
            "[[ 1 40  0]\n",
            " [38 11  0]\n",
            " [35  0  0]]\n",
            "--------------------------------------------------\n",
            "--------------------------------------------------\n",
            "Performance Evaluation\n",
            "              precision    recall  f1-score   support\n",
            "\n",
            "           1       0.01      0.02      0.02        41\n",
            "           2       0.22      0.22      0.22        49\n",
            "           3       1.00      0.00      0.00        35\n",
            "\n",
            "    accuracy                           0.10       125\n",
            "   macro avg       0.41      0.08      0.08       125\n",
            "weighted avg       0.37      0.10      0.09       125\n",
            "\n",
            "--------------------------------------------------\n",
            "--------------------------------------------------\n",
            "Accuracy:\n",
            "0.096\n"
          ]
        },
        {
          "output_type": "display_data",
          "data": {
            "image/png": "[encoded data removed]",
            "text/plain": [
              "<Figure size 432x288 with 2 Axes>"
            ]
          },
          "metadata": {
            "needs_background": "light"
          }
        }
      ]
    }
  ]
}